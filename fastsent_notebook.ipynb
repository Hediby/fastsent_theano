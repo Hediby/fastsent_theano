{
 "cells": [
  {
   "cell_type": "code",
   "execution_count": 1,
   "metadata": {
    "collapsed": true
   },
   "outputs": [],
   "source": [
    "import theano"
   ]
  },
  {
   "cell_type": "code",
   "execution_count": 2,
   "metadata": {
    "collapsed": true
   },
   "outputs": [],
   "source": [
    "import numpy as np\n",
    "from time import time\n",
    "import theano.tensor as T\n",
    "import cPickle\n",
    "from theano.tensor.nnet import softmax\n",
    "#dtype = theano.config.dtype\n",
    "dtype='float32'"
   ]
  },
  {
   "cell_type": "code",
   "execution_count": 3,
   "metadata": {
    "collapsed": true
   },
   "outputs": [],
   "source": [
    "i2w=[\"<pad>\",\"un\",\"deux\",\"trois\",\"quatre\",\"cinq\",\"six\",\"sept\",\"huit\",\"neuf\"]"
   ]
  },
  {
   "cell_type": "code",
   "execution_count": 4,
   "metadata": {
    "collapsed": true
   },
   "outputs": [],
   "source": [
    "index_fixe=[0,3]"
   ]
  },
  {
   "cell_type": "code",
   "execution_count": 5,
   "metadata": {
    "collapsed": true
   },
   "outputs": [],
   "source": [
    "i2f=[0,0.4,0.5,0.6,0.7,0.8,0.88,0.95,0.98,1]"
   ]
  },
  {
   "cell_type": "code",
   "execution_count": 6,
   "metadata": {
    "collapsed": false
   },
   "outputs": [
    {
     "data": {
      "text/plain": [
       "[0.8, 0.88, 0.95, 0.98, 1]"
      ]
     },
     "execution_count": 6,
     "metadata": {},
     "output_type": "execute_result"
    }
   ],
   "source": [
    "i2f[5:]"
   ]
  },
  {
   "cell_type": "code",
   "execution_count": 7,
   "metadata": {
    "collapsed": true
   },
   "outputs": [],
   "source": [
    "vocab_size = len(i2w)\n",
    "dim = 5"
   ]
  },
  {
   "cell_type": "code",
   "execution_count": 8,
   "metadata": {
    "collapsed": false
   },
   "outputs": [],
   "source": [
    "W = np.vstack((np.zeros(dim),0.001*np.random.randn(vocab_size-1, dim))).astype(dtype)\n",
    "V = np.vstack((np.zeros(dim),0.001*np.random.randn(vocab_size-1, dim))).astype(dtype)\n",
    "#0.001*np.random.randn(vocab_size, dim).astype(dtype)"
   ]
  },
  {
   "cell_type": "code",
   "execution_count": 9,
   "metadata": {
    "collapsed": false
   },
   "outputs": [
    {
     "data": {
      "text/plain": [
       "array([[  0.00000000e+00,   0.00000000e+00,   0.00000000e+00,\n",
       "          0.00000000e+00,   0.00000000e+00],\n",
       "       [  3.67685920e-04,  -8.18518165e-04,  -5.51570905e-04,\n",
       "         -1.92546682e-03,   1.05576590e-03],\n",
       "       [  1.34588347e-03,   9.56688717e-04,   5.80201915e-04,\n",
       "         -1.03196164e-03,  -5.70894801e-04],\n",
       "       [ -1.38826872e-05,   4.03675251e-04,   5.35573869e-04,\n",
       "          5.08184312e-04,  -1.56225334e-03],\n",
       "       [  6.72577822e-04,   6.94144575e-04,  -2.75114289e-04,\n",
       "          1.55758287e-04,   7.61797011e-04],\n",
       "       [ -1.28774752e-03,   2.64709495e-04,   3.02798318e-04,\n",
       "          9.55128489e-05,  -2.17208668e-04],\n",
       "       [  1.20640034e-03,  -2.24424433e-03,   1.00623246e-03,\n",
       "         -3.25804955e-04,  -3.85297375e-04],\n",
       "       [  9.70565248e-04,   7.27406470e-04,  -4.23940801e-04,\n",
       "         -8.22612259e-04,  -1.10004032e-04],\n",
       "       [ -2.76636361e-04,  -2.41060276e-04,  -1.49319856e-03,\n",
       "          1.69037061e-03,   9.59230005e-04],\n",
       "       [  1.07968540e-03,   1.36535172e-03,  -9.55994357e-04,\n",
       "         -2.55879597e-04,   4.57469519e-04]], dtype=float32)"
      ]
     },
     "execution_count": 9,
     "metadata": {},
     "output_type": "execute_result"
    }
   ],
   "source": [
    "W"
   ]
  },
  {
   "cell_type": "code",
   "execution_count": 10,
   "metadata": {
    "collapsed": false
   },
   "outputs": [],
   "source": [
    "W = theano.shared(W, name='W')\n",
    "V = theano.shared(V, name='V')"
   ]
  },
  {
   "cell_type": "code",
   "execution_count": 11,
   "metadata": {
    "collapsed": true
   },
   "outputs": [],
   "source": [
    "indexes = T.imatrix('X')\n",
    "\n",
    "batch_mask = 1-T.eq(indexes, T.zeros_like(indexes))\n",
    "mask = batch_mask[1:-1]\n",
    "maskp = batch_mask[:-2]\n",
    "maskn = batch_mask[2:]\n",
    "X_indexes = indexes[1:-1]\n",
    "Yp_indexes = indexes[:-2]\n",
    "Yn_indexes = indexes[2:]"
   ]
  },
  {
   "cell_type": "code",
   "execution_count": 132,
   "metadata": {
    "collapsed": true
   },
   "outputs": [],
   "source": [
    "batch_len,sent_len=X_indexes.shape"
   ]
  },
  {
   "cell_type": "code",
   "execution_count": 14,
   "metadata": {
    "collapsed": false
   },
   "outputs": [],
   "source": [
    "indexes1=np.array([[1,7,8,0],[2,4,0,0],[2,4,0,0],[1,8,9,4]],dtype='int32')"
   ]
  },
  {
   "cell_type": "code",
   "execution_count": 15,
   "metadata": {
    "collapsed": true
   },
   "outputs": [],
   "source": [
    "indexX=X_indexes.flatten()\n",
    "\n",
    "W_index=W[indexX]"
   ]
  },
  {
   "cell_type": "code",
   "execution_count": 16,
   "metadata": {
    "collapsed": true
   },
   "outputs": [],
   "source": [
    "X=W_index.reshape((batch_len,sent_len,-1))"
   ]
  },
  {
   "cell_type": "code",
   "execution_count": 18,
   "metadata": {
    "collapsed": false
   },
   "outputs": [
    {
     "data": {
      "text/plain": [
       "array([[ 0.00201846,  0.00165083,  0.00030509, -0.0008762 ,  0.0001909 ],\n",
       "       [ 0.00201846,  0.00165083,  0.00030509, -0.0008762 ,  0.0001909 ]], dtype=float32)"
      ]
     },
     "execution_count": 18,
     "metadata": {},
     "output_type": "execute_result"
    }
   ],
   "source": [
    "Xs = T.sum(X, axis=1)\n",
    "Xs.eval({indexes:indexes1})"
   ]
  },
  {
   "cell_type": "code",
   "execution_count": null,
   "metadata": {
    "collapsed": true
   },
   "outputs": [],
   "source": []
  },
  {
   "cell_type": "code",
   "execution_count": 23,
   "metadata": {
    "collapsed": true
   },
   "outputs": [],
   "source": [
    "neg_len=10"
   ]
  },
  {
   "cell_type": "code",
   "execution_count": 24,
   "metadata": {
    "collapsed": true
   },
   "outputs": [],
   "source": [
    "from random import random\n",
    "from bisect import bisect\n",
    "\n",
    "\n",
    "def weighted_choice():\n",
    "    x = random()\n",
    "    i = bisect(i2f, x)\n",
    "    return i"
   ]
  },
  {
   "cell_type": "code",
   "execution_count": null,
   "metadata": {
    "collapsed": true
   },
   "outputs": [],
   "source": []
  },
  {
   "cell_type": "code",
   "execution_count": 25,
   "metadata": {
    "collapsed": false
   },
   "outputs": [],
   "source": [
    "neg=[weighted_choice() for i in range(neg_len)]"
   ]
  },
  {
   "cell_type": "code",
   "execution_count": 26,
   "metadata": {
    "collapsed": true
   },
   "outputs": [],
   "source": [
    "I = [Yp_indexes, Yn_indexes]\n",
    "I = T.concatenate(I, axis=1)\n",
    "M = [maskp, maskn]\n",
    "M=T.concatenate(M, axis=1)"
   ]
  },
  {
   "cell_type": "code",
   "execution_count": 27,
   "metadata": {
    "collapsed": false
   },
   "outputs": [],
   "source": [
    "max_len=I.shape[1]\n",
    "\n",
    "pos=I.flatten()"
   ]
  },
  {
   "cell_type": "code",
   "execution_count": 28,
   "metadata": {
    "collapsed": true
   },
   "outputs": [],
   "source": [
    "index=T.concatenate([pos,neg])"
   ]
  },
  {
   "cell_type": "code",
   "execution_count": 114,
   "metadata": {
    "collapsed": false
   },
   "outputs": [
    {
     "data": {
      "text/plain": [
       "array([1, 7, 8, 0, 2, 4, 0, 0, 2, 4, 0, 0, 1, 8, 9, 4, 7, 1, 1, 1, 6, 1, 1,\n",
       "       1, 5, 1])"
      ]
     },
     "execution_count": 114,
     "metadata": {},
     "output_type": "execute_result"
    }
   ],
   "source": [
    "index.eval({indexes:indexes1})"
   ]
  },
  {
   "cell_type": "code",
   "execution_count": 29,
   "metadata": {
    "collapsed": true
   },
   "outputs": [],
   "source": [
    "V_index=V[index]"
   ]
  },
  {
   "cell_type": "code",
   "execution_count": 30,
   "metadata": {
    "collapsed": false
   },
   "outputs": [
    {
     "data": {
      "text/plain": [
       "array(2)"
      ]
     },
     "execution_count": 30,
     "metadata": {},
     "output_type": "execute_result"
    }
   ],
   "source": [
    "batch_len.eval({indexes:indexes1})"
   ]
  },
  {
   "cell_type": "code",
   "execution_count": 31,
   "metadata": {
    "collapsed": false
   },
   "outputs": [
    {
     "data": {
      "text/plain": [
       "array([[-0.00036857, -0.00073604,  0.00017893,  0.00055846, -0.00102126],\n",
       "       [-0.00066097,  0.0005526 , -0.00016924,  0.0004105 ,  0.00098169],\n",
       "       [ 0.00092678,  0.00116544, -0.00107586,  0.00037091,  0.00031154],\n",
       "       [ 0.        ,  0.        ,  0.        ,  0.        ,  0.        ],\n",
       "       [-0.00151739,  0.00021228,  0.00211028,  0.00071778, -0.00114865]], dtype=float32)"
      ]
     },
     "execution_count": 31,
     "metadata": {},
     "output_type": "execute_result"
    }
   ],
   "source": [
    "V_index.eval({indexes:indexes1})[0:5]"
   ]
  },
  {
   "cell_type": "code",
   "execution_count": 32,
   "metadata": {
    "collapsed": true
   },
   "outputs": [],
   "source": [
    "activations = T.dot(Xs, V_index.T)"
   ]
  },
  {
   "cell_type": "code",
   "execution_count": 33,
   "metadata": {
    "collapsed": false
   },
   "outputs": [
    {
     "data": {
      "text/plain": [
       "array([[ -2.58871228e-06,  -6.45793875e-07,   3.20087065e-06,\n",
       "          0.00000000e+00,  -2.91673041e-06,  -3.07839855e-06,\n",
       "          0.00000000e+00,   0.00000000e+00,  -2.91673041e-06,\n",
       "         -3.07839855e-06,   0.00000000e+00,   0.00000000e+00,\n",
       "         -2.58871228e-06,   3.20087065e-06,  -1.93550886e-06,\n",
       "         -3.07839855e-06,  -6.45793875e-07,  -2.58871228e-06,\n",
       "         -2.58871228e-06,  -2.58871228e-06,   2.15239879e-06,\n",
       "         -2.58871228e-06,  -2.58871228e-06,  -2.58871228e-06,\n",
       "         -1.11156749e-06,  -2.58871228e-06],\n",
       "       [ -2.58871228e-06,  -6.45793875e-07,   3.20087065e-06,\n",
       "          0.00000000e+00,  -2.91673041e-06,  -3.07839855e-06,\n",
       "          0.00000000e+00,   0.00000000e+00,  -2.91673041e-06,\n",
       "         -3.07839855e-06,   0.00000000e+00,   0.00000000e+00,\n",
       "         -2.58871228e-06,   3.20087065e-06,  -1.93550886e-06,\n",
       "         -3.07839855e-06,  -6.45793875e-07,  -2.58871228e-06,\n",
       "         -2.58871228e-06,  -2.58871228e-06,   2.15239879e-06,\n",
       "         -2.58871228e-06,  -2.58871228e-06,  -2.58871228e-06,\n",
       "         -1.11156749e-06,  -2.58871228e-06]], dtype=float32)"
      ]
     },
     "execution_count": 33,
     "metadata": {},
     "output_type": "execute_result"
    }
   ],
   "source": [
    "activations.eval({indexes:indexes1})"
   ]
  },
  {
   "cell_type": "code",
   "execution_count": null,
   "metadata": {
    "collapsed": true
   },
   "outputs": [],
   "source": []
  },
  {
   "cell_type": "code",
   "execution_count": 34,
   "metadata": {
    "collapsed": false
   },
   "outputs": [],
   "source": [
    "chelou_line=T.arange(I.shape[0]).reshape((-1,1))\n"
   ]
  },
  {
   "cell_type": "code",
   "execution_count": null,
   "metadata": {
    "collapsed": true
   },
   "outputs": [],
   "source": []
  },
  {
   "cell_type": "code",
   "execution_count": null,
   "metadata": {
    "collapsed": true
   },
   "outputs": [],
   "source": []
  },
  {
   "cell_type": "code",
   "execution_count": 35,
   "metadata": {
    "collapsed": true
   },
   "outputs": [],
   "source": [
    "pos_columns=T.arange(batch_len*max_len).reshape((batch_len,-1))"
   ]
  },
  {
   "cell_type": "code",
   "execution_count": 36,
   "metadata": {
    "collapsed": false
   },
   "outputs": [],
   "source": [
    "neg_columns=(T.arange(batch_len*max_len,(batch_len*max_len+neg_len)))"
   ]
  },
  {
   "cell_type": "code",
   "execution_count": 37,
   "metadata": {
    "collapsed": true
   },
   "outputs": [],
   "source": [
    "shaped_neg_columns=(neg_columns.reshape((1,-1)))"
   ]
  },
  {
   "cell_type": "code",
   "execution_count": 38,
   "metadata": {
    "collapsed": false
   },
   "outputs": [
    {
     "data": {
      "text/plain": [
       "array([[16, 17, 18, 19, 20, 21, 22, 23, 24, 25]])"
      ]
     },
     "execution_count": 38,
     "metadata": {},
     "output_type": "execute_result"
    }
   ],
   "source": [
    "shaped_neg_columns.eval({indexes:indexes1})"
   ]
  },
  {
   "cell_type": "code",
   "execution_count": 39,
   "metadata": {
    "collapsed": false
   },
   "outputs": [
    {
     "data": {
      "text/plain": [
       "array([[ 0,  1,  2,  3,  4,  5,  6,  7],\n",
       "       [ 8,  9, 10, 11, 12, 13, 14, 15]])"
      ]
     },
     "execution_count": 39,
     "metadata": {},
     "output_type": "execute_result"
    }
   ],
   "source": [
    "pos_columns.eval({indexes:indexes1},)"
   ]
  },
  {
   "cell_type": "code",
   "execution_count": 40,
   "metadata": {
    "collapsed": false
   },
   "outputs": [],
   "source": [
    "rep_neg_columns=T.repeat(shaped_neg_columns,batch_len,axis=0)"
   ]
  },
  {
   "cell_type": "code",
   "execution_count": 41,
   "metadata": {
    "collapsed": false
   },
   "outputs": [
    {
     "data": {
      "text/plain": [
       "array([[16, 17, 18, 19, 20, 21, 22, 23, 24, 25],\n",
       "       [16, 17, 18, 19, 20, 21, 22, 23, 24, 25]])"
      ]
     },
     "execution_count": 41,
     "metadata": {},
     "output_type": "execute_result"
    }
   ],
   "source": [
    "rep_neg_columns.eval({indexes:indexes1},)"
   ]
  },
  {
   "cell_type": "code",
   "execution_count": 42,
   "metadata": {
    "collapsed": false
   },
   "outputs": [
    {
     "data": {
      "text/plain": [
       "array([[ 0,  1,  2,  3,  4,  5,  6,  7, 16, 17, 18, 19, 20, 21, 22, 23, 24,\n",
       "        25],\n",
       "       [ 8,  9, 10, 11, 12, 13, 14, 15, 16, 17, 18, 19, 20, 21, 22, 23, 24,\n",
       "        25]])"
      ]
     },
     "execution_count": 42,
     "metadata": {},
     "output_type": "execute_result"
    }
   ],
   "source": [
    "chelou_column=T.concatenate((pos_columns,rep_neg_columns),axis=1)\n",
    "\n",
    "chelou_column.eval({indexes:indexes1})"
   ]
  },
  {
   "cell_type": "code",
   "execution_count": 43,
   "metadata": {
    "collapsed": true
   },
   "outputs": [],
   "source": [
    "acti_posneg=activations[chelou_line,chelou_column]"
   ]
  },
  {
   "cell_type": "code",
   "execution_count": 44,
   "metadata": {
    "collapsed": false
   },
   "outputs": [
    {
     "data": {
      "text/plain": [
       "array([[ -2.58871228e-06,  -6.45793875e-07,   3.20087065e-06,\n",
       "          0.00000000e+00,  -2.91673041e-06,  -3.07839855e-06,\n",
       "          0.00000000e+00,   0.00000000e+00,  -6.45793875e-07,\n",
       "         -2.58871228e-06,  -2.58871228e-06,  -2.58871228e-06,\n",
       "          2.15239879e-06,  -2.58871228e-06,  -2.58871228e-06,\n",
       "         -2.58871228e-06,  -1.11156749e-06,  -2.58871228e-06],\n",
       "       [ -2.91673041e-06,  -3.07839855e-06,   0.00000000e+00,\n",
       "          0.00000000e+00,  -2.58871228e-06,   3.20087065e-06,\n",
       "         -1.93550886e-06,  -3.07839855e-06,  -6.45793875e-07,\n",
       "         -2.58871228e-06,  -2.58871228e-06,  -2.58871228e-06,\n",
       "          2.15239879e-06,  -2.58871228e-06,  -2.58871228e-06,\n",
       "         -2.58871228e-06,  -1.11156749e-06,  -2.58871228e-06]], dtype=float32)"
      ]
     },
     "execution_count": 44,
     "metadata": {},
     "output_type": "execute_result"
    }
   ],
   "source": [
    "acti_posneg.eval({indexes:indexes1})"
   ]
  },
  {
   "cell_type": "code",
   "execution_count": 45,
   "metadata": {
    "collapsed": true
   },
   "outputs": [],
   "source": [
    "mask_neg_zero=T.zeros_like(rep_neg_columns)"
   ]
  },
  {
   "cell_type": "code",
   "execution_count": 46,
   "metadata": {
    "collapsed": false
   },
   "outputs": [],
   "source": [
    "mask_neg=(1-mask_neg_zero)"
   ]
  },
  {
   "cell_type": "code",
   "execution_count": null,
   "metadata": {
    "collapsed": true
   },
   "outputs": [],
   "source": []
  },
  {
   "cell_type": "code",
   "execution_count": 47,
   "metadata": {
    "collapsed": true
   },
   "outputs": [],
   "source": [
    "mask_full = T.concatenate((M,mask_neg),axis=1)"
   ]
  },
  {
   "cell_type": "code",
   "execution_count": 48,
   "metadata": {
    "collapsed": false
   },
   "outputs": [],
   "source": [
    "mask_zero=T.concatenate((M,mask_neg_zero),axis=1)"
   ]
  },
  {
   "cell_type": "code",
   "execution_count": 49,
   "metadata": {
    "collapsed": true
   },
   "outputs": [],
   "source": [
    "acti_mask=acti_posneg*mask_full"
   ]
  },
  {
   "cell_type": "code",
   "execution_count": 50,
   "metadata": {
    "collapsed": false
   },
   "outputs": [
    {
     "data": {
      "text/plain": [
       "array([[ -2.58871228e-06,  -6.45793875e-07,   3.20087065e-06,\n",
       "          0.00000000e+00,  -2.91673041e-06,  -3.07839855e-06,\n",
       "          0.00000000e+00,   0.00000000e+00,  -6.45793875e-07,\n",
       "         -2.58871228e-06,  -2.58871228e-06,  -2.58871228e-06,\n",
       "          2.15239879e-06,  -2.58871228e-06,  -2.58871228e-06,\n",
       "         -2.58871228e-06,  -1.11156749e-06,  -2.58871228e-06],\n",
       "       [ -2.91673041e-06,  -3.07839855e-06,   0.00000000e+00,\n",
       "          0.00000000e+00,  -2.58871228e-06,   3.20087065e-06,\n",
       "         -1.93550886e-06,  -3.07839855e-06,  -6.45793875e-07,\n",
       "         -2.58871228e-06,  -2.58871228e-06,  -2.58871228e-06,\n",
       "          2.15239879e-06,  -2.58871228e-06,  -2.58871228e-06,\n",
       "         -2.58871228e-06,  -1.11156749e-06,  -2.58871228e-06]])"
      ]
     },
     "execution_count": 50,
     "metadata": {},
     "output_type": "execute_result"
    }
   ],
   "source": [
    "acti_mask.eval({indexes:indexes1})"
   ]
  },
  {
   "cell_type": "code",
   "execution_count": 51,
   "metadata": {
    "collapsed": false
   },
   "outputs": [
    {
     "data": {
      "text/plain": [
       "array([[ 0.05555549,  0.05555559,  0.05555581,  0.05555563,  0.05555547,\n",
       "         0.05555546,  0.05555563,  0.05555563,  0.05555559,  0.05555549,\n",
       "         0.05555549,  0.05555549,  0.05555575,  0.05555549,  0.05555549,\n",
       "         0.05555549,  0.05555557,  0.05555549],\n",
       "       [ 0.05555548,  0.05555547,  0.05555564,  0.05555564,  0.0555555 ,\n",
       "         0.05555582,  0.05555553,  0.05555547,  0.05555561,  0.0555555 ,\n",
       "         0.0555555 ,  0.0555555 ,  0.05555576,  0.0555555 ,  0.0555555 ,\n",
       "         0.0555555 ,  0.05555558,  0.0555555 ]])"
      ]
     },
     "execution_count": 51,
     "metadata": {},
     "output_type": "execute_result"
    }
   ],
   "source": [
    "prediction = softmax(acti_mask)\n",
    "\n",
    "prediction.eval({indexes:indexes1})"
   ]
  },
  {
   "cell_type": "code",
   "execution_count": 52,
   "metadata": {
    "collapsed": false
   },
   "outputs": [],
   "source": [
    "logpred=T.log(prediction)*mask_zero"
   ]
  },
  {
   "cell_type": "code",
   "execution_count": 53,
   "metadata": {
    "collapsed": false
   },
   "outputs": [
    {
     "data": {
      "text/plain": [
       "array([[ 0.05555549,  0.05555559,  0.05555581,  0.05555563,  0.05555547,\n",
       "         0.05555546,  0.05555563,  0.05555563,  0.05555559,  0.05555549,\n",
       "         0.05555549,  0.05555549,  0.05555575,  0.05555549,  0.05555549,\n",
       "         0.05555549,  0.05555557,  0.05555549],\n",
       "       [ 0.05555548,  0.05555547,  0.05555564,  0.05555564,  0.0555555 ,\n",
       "         0.05555582,  0.05555553,  0.05555547,  0.05555561,  0.0555555 ,\n",
       "         0.0555555 ,  0.0555555 ,  0.05555576,  0.0555555 ,  0.0555555 ,\n",
       "         0.0555555 ,  0.05555558,  0.0555555 ]])"
      ]
     },
     "execution_count": 53,
     "metadata": {},
     "output_type": "execute_result"
    }
   ],
   "source": [
    "prediction.eval({indexes:indexes1})"
   ]
  },
  {
   "cell_type": "code",
   "execution_count": 54,
   "metadata": {
    "collapsed": false
   },
   "outputs": [],
   "source": [
    "cost = T.mean(T.sum(-T.log(prediction)*mask_zero, axis=1))"
   ]
  },
  {
   "cell_type": "code",
   "execution_count": 55,
   "metadata": {
    "collapsed": false
   },
   "outputs": [
    {
     "data": {
      "text/plain": [
       "array(15.897044894855453)"
      ]
     },
     "execution_count": 55,
     "metadata": {},
     "output_type": "execute_result"
    }
   ],
   "source": [
    "cost.eval({indexes:indexes1})"
   ]
  },
  {
   "cell_type": "code",
   "execution_count": 55,
   "metadata": {
    "collapsed": false
   },
   "outputs": [],
   "source": [
    "lr = T.scalar('lr', dtype=dtype)"
   ]
  },
  {
   "cell_type": "code",
   "execution_count": 58,
   "metadata": {
    "collapsed": true
   },
   "outputs": [],
   "source": [
    "params = [W_index,V_index]\n",
    "#not W but subtensor of W"
   ]
  },
  {
   "cell_type": "code",
   "execution_count": 59,
   "metadata": {
    "collapsed": true
   },
   "outputs": [],
   "source": [
    "params_name=[\"W_index\",\"V_index\"]"
   ]
  },
  {
   "cell_type": "code",
   "execution_count": 60,
   "metadata": {
    "collapsed": false
   },
   "outputs": [],
   "source": [
    "grads = T.grad(cost, params)"
   ]
  },
  {
   "cell_type": "code",
   "execution_count": 73,
   "metadata": {
    "collapsed": false
   },
   "outputs": [
    {
     "data": {
      "text/plain": [
       "[Reshape{2}.0, DimShuffle{1,0}.0]"
      ]
     },
     "execution_count": 73,
     "metadata": {},
     "output_type": "execute_result"
    }
   ],
   "source": [
    "grads"
   ]
  },
  {
   "cell_type": "code",
   "execution_count": 74,
   "metadata": {
    "collapsed": false
   },
   "outputs": [
    {
     "data": {
      "text/plain": [
       "array([[ 0.00134579,  0.00095667,  0.00058025, -0.00103203, -0.00057065],\n",
       "       [ 0.00067248,  0.00069412, -0.00027506,  0.00015569,  0.00076204],\n",
       "       [ 0.        ,  0.        ,  0.        ,  0.        ,  0.        ],\n",
       "       [ 0.        ,  0.        ,  0.        ,  0.        ,  0.        ],\n",
       "       [ 0.00134579,  0.00095667,  0.00058025, -0.00103203, -0.00057065],\n",
       "       [ 0.00067248,  0.00069412, -0.00027506,  0.00015569,  0.00076204],\n",
       "       [ 0.        ,  0.        ,  0.        ,  0.        ,  0.        ],\n",
       "       [ 0.        ,  0.        ,  0.        ,  0.        ,  0.        ]], dtype=float32)"
      ]
     },
     "execution_count": 74,
     "metadata": {},
     "output_type": "execute_result"
    }
   ],
   "source": [
    "W_index.eval({indexes:indexes1})"
   ]
  },
  {
   "cell_type": "code",
   "execution_count": 72,
   "metadata": {
    "collapsed": false
   },
   "outputs": [
    {
     "data": {
      "text/plain": [
       "array([[ 0.0004001 , -0.00060944, -0.00016033, -0.00017079, -0.00098464],\n",
       "       [ 0.0004001 , -0.00060944, -0.00016033, -0.00017079, -0.00098464],\n",
       "       [ 0.0004001 , -0.00060944, -0.00016033, -0.00017079, -0.00098464],\n",
       "       [ 0.0004001 , -0.00060944, -0.00016033, -0.00017079, -0.00098464],\n",
       "       [ 0.00046487,  0.00010898, -0.00026042,  0.00033778, -0.00122052],\n",
       "       [ 0.00046487,  0.00010898, -0.00026042,  0.00033778, -0.00122052],\n",
       "       [ 0.00046487,  0.00010898, -0.00026042,  0.00033778, -0.00122052],\n",
       "       [ 0.00046487,  0.00010898, -0.00026042,  0.00033778, -0.00122052]], dtype=float32)"
      ]
     },
     "execution_count": 72,
     "metadata": {},
     "output_type": "execute_result"
    }
   ],
   "source": [
    "grads[0].eval({indexes:indexes1})"
   ]
  },
  {
   "cell_type": "code",
   "execution_count": 78,
   "metadata": {
    "collapsed": true
   },
   "outputs": [],
   "source": [
    "lr=1"
   ]
  },
  {
   "cell_type": "code",
   "execution_count": 79,
   "metadata": {
    "collapsed": true
   },
   "outputs": [],
   "source": [
    "updates = [(p, p-lr*g) for p,g in zip(params, grads)]\n",
    "\n"
   ]
  },
  {
   "cell_type": "code",
   "execution_count": 116,
   "metadata": {
    "collapsed": false
   },
   "outputs": [],
   "source": [
    "updates = []\n",
    "sub_update={}\n",
    "\n",
    "for p,g,n in zip(params, grads,params_name):\n",
    "    sub_update[n]=-lr*g"
   ]
  },
  {
   "cell_type": "code",
   "execution_count": 95,
   "metadata": {
    "collapsed": false
   },
   "outputs": [
    {
     "data": {
      "text/plain": [
       "{1, 2}"
      ]
     },
     "execution_count": 95,
     "metadata": {},
     "output_type": "execute_result"
    }
   ],
   "source": [
    "set([1,2])"
   ]
  },
  {
   "cell_type": "code",
   "execution_count": 110,
   "metadata": {
    "collapsed": true
   },
   "outputs": [],
   "source": [
    "test=np.array([1,2,3,4])"
   ]
  },
  {
   "cell_type": "code",
   "execution_count": 111,
   "metadata": {
    "collapsed": false
   },
   "outputs": [],
   "source": [
    "test[[1,2,2]]=[0,1,2]"
   ]
  },
  {
   "cell_type": "code",
   "execution_count": 112,
   "metadata": {
    "collapsed": false
   },
   "outputs": [
    {
     "data": {
      "text/plain": [
       "array([1, 0, 2, 4])"
      ]
     },
     "execution_count": 112,
     "metadata": {},
     "output_type": "execute_result"
    }
   ],
   "source": [
    "test"
   ]
  },
  {
   "cell_type": "code",
   "execution_count": 115,
   "metadata": {
    "collapsed": true
   },
   "outputs": [],
   "source": [
    "T.inc_subtensor?"
   ]
  },
  {
   "cell_type": "code",
   "execution_count": 125,
   "metadata": {
    "collapsed": true
   },
   "outputs": [],
   "source": [
    "updateV=T.inc_subtensor(V[index],sub_update[\"V_index\"] )\n",
    "updateV=T.set_subtensor(updateV[index_fixe],V[index_fixe])"
   ]
  },
  {
   "cell_type": "code",
   "execution_count": 119,
   "metadata": {
    "collapsed": false
   },
   "outputs": [],
   "source": [
    "updateW=T.inc_subtensor(W[X_flatten],sub_update[\"W_index\"])\n",
    "updateW=T.set_subtensor(updateW[index_fixe],W[index_fixe])"
   ]
  },
  {
   "cell_type": "code",
   "execution_count": 127,
   "metadata": {
    "collapsed": false
   },
   "outputs": [
    {
     "data": {
      "text/plain": [
       "array([ True, False, False, False, False, False, False, False, False,\n",
       "       False, False, False,  True, False, False, False, False,  True,\n",
       "        True,  True, False,  True,  True,  True, False,  True], dtype=bool)"
      ]
     },
     "execution_count": 127,
     "metadata": {},
     "output_type": "execute_result"
    }
   ],
   "source": [
    "index.eval({indexes:indexes1})==1"
   ]
  },
  {
   "cell_type": "code",
   "execution_count": 131,
   "metadata": {
    "collapsed": false
   },
   "outputs": [
    {
     "data": {
      "text/plain": [
       "array([ 0.00291528,  0.00238447,  0.00044083, -0.00126582,  0.00027645], dtype=float32)"
      ]
     },
     "execution_count": 131,
     "metadata": {},
     "output_type": "execute_result"
    }
   ],
   "source": [
    "np.sum(grads[1].eval({indexes:indexes1})[index.eval({indexes:indexes1})==1],axis=0)"
   ]
  },
  {
   "cell_type": "code",
   "execution_count": null,
   "metadata": {
    "collapsed": true
   },
   "outputs": [],
   "source": []
  },
  {
   "cell_type": "code",
   "execution_count": 88,
   "metadata": {
    "collapsed": false
   },
   "outputs": [
    {
     "data": {
      "text/plain": [
       "array([2, 4, 0, 0, 2, 4, 0, 0], dtype=int32)"
      ]
     },
     "execution_count": 88,
     "metadata": {},
     "output_type": "execute_result"
    }
   ],
   "source": [
    "X_flatten.eval({indexes:indexes1})"
   ]
  },
  {
   "cell_type": "code",
   "execution_count": 120,
   "metadata": {
    "collapsed": false
   },
   "outputs": [
    {
     "data": {
      "text/plain": [
       "array([[ 0.0004001 , -0.00060944, -0.00016033, -0.00017079, -0.00098464],\n",
       "       [ 0.0004001 , -0.00060944, -0.00016033, -0.00017079, -0.00098464],\n",
       "       [ 0.0004001 , -0.00060944, -0.00016033, -0.00017079, -0.00098464],\n",
       "       [ 0.0004001 , -0.00060944, -0.00016033, -0.00017079, -0.00098464],\n",
       "       [ 0.00046487,  0.00010898, -0.00026042,  0.00033778, -0.00122052],\n",
       "       [ 0.00046487,  0.00010898, -0.00026042,  0.00033778, -0.00122052],\n",
       "       [ 0.00046487,  0.00010898, -0.00026042,  0.00033778, -0.00122052],\n",
       "       [ 0.00046487,  0.00010898, -0.00026042,  0.00033778, -0.00122052]], dtype=float32)"
      ]
     },
     "execution_count": 120,
     "metadata": {},
     "output_type": "execute_result"
    }
   ],
   "source": [
    "grads[0].eval({indexes:indexes1})"
   ]
  },
  {
   "cell_type": "code",
   "execution_count": 122,
   "metadata": {
    "collapsed": false
   },
   "outputs": [
    {
     "data": {
      "text/plain": [
       "0.00016698999999999997"
      ]
     },
     "execution_count": 122,
     "metadata": {},
     "output_type": "execute_result"
    }
   ],
   "source": [
    "-0.00017079+0.00033778\n"
   ]
  },
  {
   "cell_type": "code",
   "execution_count": 124,
   "metadata": {
    "collapsed": false
   },
   "outputs": [
    {
     "data": {
      "text/plain": [
       "array([[  0.00000000e+00,   0.00000000e+00,   0.00000000e+00,\n",
       "          0.00000000e+00,   0.00000000e+00],\n",
       "       [ -2.91528110e-03,  -2.38446938e-03,  -4.40831733e-04,\n",
       "          1.26581988e-03,  -2.76452163e-04],\n",
       "       [  1.40158087e-03,   1.14638230e-03,   2.11938983e-04,\n",
       "         -6.08568720e-04,   1.32910092e-04],\n",
       "       [  0.00000000e+00,   0.00000000e+00,   0.00000000e+00,\n",
       "          0.00000000e+00,   0.00000000e+00],\n",
       "       [  2.07433989e-03,   1.69664598e-03,   3.13669530e-04,\n",
       "         -9.00681829e-04,   1.96706969e-04],\n",
       "       [ -6.16695383e-04,  -5.04408032e-04,  -9.32530675e-05,\n",
       "          2.67770141e-04,  -5.84804220e-05],\n",
       "       [ -6.16697420e-04,  -5.04409720e-04,  -9.32533294e-05,\n",
       "          2.67770956e-04,  -5.84806257e-05],\n",
       "       [  1.12125650e-04,   9.17099533e-05,   1.69550040e-05,\n",
       "         -4.86851495e-05,   1.06327934e-05],\n",
       "       [  1.40157726e-03,   1.14637928e-03,   2.11938284e-04,\n",
       "         -6.08567032e-04,   1.32909772e-04],\n",
       "       [  6.72758557e-04,   5.50263270e-04,   1.01730635e-04,\n",
       "         -2.92112876e-04,   6.37968478e-05]], dtype=float32)"
      ]
     },
     "execution_count": 124,
     "metadata": {},
     "output_type": "execute_result"
    }
   ],
   "source": [
    "updateV.eval({indexes:indexes1})- V.get_value()"
   ]
  },
  {
   "cell_type": "code",
   "execution_count": 84,
   "metadata": {
    "collapsed": false
   },
   "outputs": [],
   "source": [
    "updates.append((V,updateV))\n",
    "updates.append((W,updateW))"
   ]
  },
  {
   "cell_type": "code",
   "execution_count": 67,
   "metadata": {
    "collapsed": false
   },
   "outputs": [],
   "source": [
    "fun_cost=theano.function(inputs = [indexes], outputs = cost,updates=updates,allow_input_downcast=True,mode='DebugMode')"
   ]
  },
  {
   "cell_type": "code",
   "execution_count": 68,
   "metadata": {
    "collapsed": false
   },
   "outputs": [
    {
     "data": {
      "text/plain": [
       "array(15.897044894855668)"
      ]
     },
     "execution_count": 68,
     "metadata": {},
     "output_type": "execute_result"
    }
   ],
   "source": [
    "fun_cost(indexes1)"
   ]
  },
  {
   "cell_type": "code",
   "execution_count": 69,
   "metadata": {
    "collapsed": false
   },
   "outputs": [
    {
     "data": {
      "text/plain": [
       "array(15.897044893037961)"
      ]
     },
     "execution_count": 69,
     "metadata": {},
     "output_type": "execute_result"
    }
   ],
   "source": [
    "fun_cost(indexes1)"
   ]
  },
  {
   "cell_type": "code",
   "execution_count": 70,
   "metadata": {
    "collapsed": false
   },
   "outputs": [
    {
     "data": {
      "text/plain": [
       "array([[  0.00000000e+00,   0.00000000e+00,   0.00000000e+00,\n",
       "          0.00000000e+00,   0.00000000e+00],\n",
       "       [  3.67685920e-04,  -8.18518165e-04,  -5.51570905e-04,\n",
       "         -1.92546682e-03,   1.05576590e-03],\n",
       "       [  1.34579046e-03,   9.56666830e-04,   5.80253953e-04,\n",
       "         -1.03202916e-03,  -5.70650678e-04],\n",
       "       [ -1.38826872e-05,   4.03675251e-04,   5.35573869e-04,\n",
       "          5.08184312e-04,  -1.56225334e-03],\n",
       "       [  6.72484806e-04,   6.94122689e-04,  -2.75062193e-04,\n",
       "          1.55690752e-04,   7.62041134e-04],\n",
       "       [ -1.28774752e-03,   2.64709495e-04,   3.02798318e-04,\n",
       "          9.55128489e-05,  -2.17208668e-04],\n",
       "       [  1.20640034e-03,  -2.24424433e-03,   1.00623246e-03,\n",
       "         -3.25804955e-04,  -3.85297375e-04],\n",
       "       [  9.70565248e-04,   7.27406470e-04,  -4.23940801e-04,\n",
       "         -8.22612259e-04,  -1.10004032e-04],\n",
       "       [ -2.76636361e-04,  -2.41060276e-04,  -1.49319856e-03,\n",
       "          1.69037061e-03,   9.59230005e-04],\n",
       "       [  1.07968540e-03,   1.36535172e-03,  -9.55994357e-04,\n",
       "         -2.55879597e-04,   4.57469519e-04]], dtype=float32)"
      ]
     },
     "execution_count": 70,
     "metadata": {},
     "output_type": "execute_result"
    }
   ],
   "source": [
    "W.get_value()"
   ]
  },
  {
   "cell_type": "code",
   "execution_count": 66,
   "metadata": {
    "collapsed": false
   },
   "outputs": [
    {
     "data": {
      "text/plain": [
       "array([[  0.00000000e+00,   0.00000000e+00,   0.00000000e+00,\n",
       "          0.00000000e+00,   0.00000000e+00],\n",
       "       [ -1.17721513e-03,   1.37171010e-03,   4.95452899e-04,\n",
       "         -2.25335592e-04,  -3.79721663e-04],\n",
       "       [  8.76754057e-04,  -1.00329053e-05,   5.86552080e-04,\n",
       "          1.77010486e-04,  -2.66592228e-03],\n",
       "       [ -1.00104534e-03,   1.13159430e-03,   3.40168102e-04,\n",
       "         -5.45030460e-04,  -9.77109070e-04],\n",
       "       [  8.98642640e-04,   3.40753119e-04,  -1.39003649e-04,\n",
       "         -1.35730347e-03,  -1.22595171e-03],\n",
       "       [  1.48651819e-03,  -1.19569944e-04,  -8.63898313e-05,\n",
       "         -2.14076065e-03,  -2.30405573e-03],\n",
       "       [ -1.29415351e-03,   8.74533318e-04,  -3.04370676e-03,\n",
       "         -4.19470336e-04,   6.09797426e-05],\n",
       "       [ -9.03261942e-04,  -2.16961955e-04,   1.07093761e-03,\n",
       "         -1.96898705e-03,   2.56974273e-03],\n",
       "       [ -1.71902985e-03,  -4.98983427e-04,  -3.27271613e-04,\n",
       "          2.98244599e-03,   9.83668840e-04],\n",
       "       [  4.17386735e-04,  -3.25882720e-04,   1.48342311e-04,\n",
       "          1.26957544e-03,   1.75476051e-03]], dtype=float32)"
      ]
     },
     "execution_count": 66,
     "metadata": {},
     "output_type": "execute_result"
    }
   ],
   "source": [
    "V.get_value()"
   ]
  },
  {
   "cell_type": "code",
   "execution_count": 67,
   "metadata": {
    "collapsed": false
   },
   "outputs": [
    {
     "data": {
      "text/plain": [
       "array([[  0.00000000e+00,   0.00000000e+00,   0.00000000e+00,\n",
       "          0.00000000e+00,   0.00000000e+00],\n",
       "       [ -1.17721513e-03,   1.37171010e-03,   4.95452899e-04,\n",
       "         -2.25335592e-04,  -3.79721663e-04],\n",
       "       [  8.76754057e-04,  -1.00329053e-05,   5.86552080e-04,\n",
       "          1.77010486e-04,  -2.66592228e-03],\n",
       "       [ -1.00104534e-03,   1.13159430e-03,   3.40168102e-04,\n",
       "         -5.45030460e-04,  -9.77109070e-04],\n",
       "       [  8.98642640e-04,   3.40753119e-04,  -1.39003649e-04,\n",
       "         -1.35730347e-03,  -1.22595171e-03],\n",
       "       [  1.48651819e-03,  -1.19569944e-04,  -8.63898313e-05,\n",
       "         -2.14076065e-03,  -2.30405573e-03],\n",
       "       [ -1.29415351e-03,   8.74533318e-04,  -3.04370676e-03,\n",
       "         -4.19470336e-04,   6.09797426e-05],\n",
       "       [ -9.03261942e-04,  -2.16961955e-04,   1.07093761e-03,\n",
       "         -1.96898705e-03,   2.56974273e-03],\n",
       "       [ -1.71902985e-03,  -4.98983427e-04,  -3.27271613e-04,\n",
       "          2.98244599e-03,   9.83668840e-04],\n",
       "       [  4.17386735e-04,  -3.25882720e-04,   1.48342311e-04,\n",
       "          1.26957544e-03,   1.75476051e-03]], dtype=float32)"
      ]
     },
     "execution_count": 67,
     "metadata": {},
     "output_type": "execute_result"
    }
   ],
   "source": [
    "V.get_value()"
   ]
  },
  {
   "cell_type": "code",
   "execution_count": 139,
   "metadata": {
    "collapsed": false
   },
   "outputs": [],
   "source": [
    "import cPickle"
   ]
  },
  {
   "cell_type": "code",
   "execution_count": 141,
   "metadata": {
    "collapsed": false
   },
   "outputs": [
    {
     "name": "stdout",
     "output_type": "stream",
     "text": [
      "<open file 'chineseModel', mode 'rb' at 0x1082db8a0>\n"
     ]
    },
    {
     "ename": "EOFError",
     "evalue": "",
     "output_type": "error",
     "traceback": [
      "\u001b[0;31m---------------------------------------------------------------------------\u001b[0m",
      "\u001b[0;31mEOFError\u001b[0m                                  Traceback (most recent call last)",
      "\u001b[0;32m<ipython-input-141-3f876b4b4936>\u001b[0m in \u001b[0;36m<module>\u001b[0;34m()\u001b[0m\n\u001b[1;32m      1\u001b[0m \u001b[0;32mwith\u001b[0m \u001b[0mopen\u001b[0m\u001b[0;34m(\u001b[0m\u001b[0;34mr\"chineseModel\"\u001b[0m\u001b[0;34m,\u001b[0m \u001b[0;34m\"rb\"\u001b[0m\u001b[0;34m)\u001b[0m \u001b[0;32mas\u001b[0m \u001b[0minput_file\u001b[0m\u001b[0;34m:\u001b[0m\u001b[0;34m\u001b[0m\u001b[0m\n\u001b[1;32m      2\u001b[0m     \u001b[0;32mprint\u001b[0m \u001b[0minput_file\u001b[0m\u001b[0;34m\u001b[0m\u001b[0m\n\u001b[0;32m----> 3\u001b[0;31m     \u001b[0me\u001b[0m \u001b[0;34m=\u001b[0m \u001b[0mcPickle\u001b[0m\u001b[0;34m.\u001b[0m\u001b[0mload\u001b[0m\u001b[0;34m(\u001b[0m\u001b[0minput_file\u001b[0m\u001b[0;34m)\u001b[0m\u001b[0;34m\u001b[0m\u001b[0m\n\u001b[0m",
      "\u001b[0;31mEOFError\u001b[0m: "
     ]
    }
   ],
   "source": [
    "with open(r\"chineseModel\", \"rb\") as input_file:\n",
    "    print input_file\n",
    "    e = cPickle.load(input_file)"
   ]
  },
  {
   "cell_type": "code",
   "execution_count": 161,
   "metadata": {
    "collapsed": true
   },
   "outputs": [],
   "source": [
    "input_file=open(r\"chineseModel\", \"r\")"
   ]
  },
  {
   "cell_type": "code",
   "execution_count": 162,
   "metadata": {
    "collapsed": false
   },
   "outputs": [],
   "source": [
    "e = cPickle.load(input_file)"
   ]
  },
  {
   "cell_type": "code",
   "execution_count": 163,
   "metadata": {
    "collapsed": false
   },
   "outputs": [
    {
     "data": {
      "text/plain": [
       "[True,\n",
       " W,\n",
       " V,\n",
       " {u'##1156402': 41,\n",
       "  u'##12453': 44,\n",
       "  u'##186953': 39,\n",
       "  u'##207961': 19,\n",
       "  u'##673661': 42,\n",
       "  u'##79782': 29,\n",
       "  u'##8078': 10,\n",
       "  u'#11129#': 6,\n",
       "  u'#181319#': 17,\n",
       "  u'#22622#': 14,\n",
       "  '<pad>': 0,\n",
       "  u'\\u4e00\\u7a2e': 24,\n",
       "  u'\\u4e00\\u9580': 5,\n",
       "  u'\\u4e09\\u4e16\\u7d00': 20,\n",
       "  u'\\u4e4b\\u7236': 12,\n",
       "  u'\\u4ee5\\u53ca': 22,\n",
       "  u'\\u4f5c\\u54c1': 36,\n",
       "  u'\\u4f7f\\u7528': 13,\n",
       "  u'\\u5229\\u7528': 11,\n",
       "  u'\\u53d8\\u5316': 15,\n",
       "  u'\\u5bb6': 27,\n",
       "  u'\\u5c0d\\u7269': 9,\n",
       "  u'\\u5c6c\\u65bc': 46,\n",
       "  u'\\u5e0c\\u81d8': 48,\n",
       "  u'\\u5e7e\\u4f55': 25,\n",
       "  u'\\u5f62\\u5f0f': 23,\n",
       "  u'\\u6570\\u5b66': 1,\n",
       "  u'\\u6578': 45,\n",
       "  u'\\u6578\\u5b78': 2,\n",
       "  u'\\u6578\\u91cf': 21,\n",
       "  u'\\u67d0\\u79cd': 47,\n",
       "  u'\\u6982\\u5ff5': 43,\n",
       "  u'\\u6b50\\u5e7e\\u91cc\\u5f97': 18,\n",
       "  u'\\u73fe': 49,\n",
       "  u'\\u7522\\u751f': 40,\n",
       "  u'\\u7531\\u8a08': 37,\n",
       "  u'\\u756b\\u70ba': 30,\n",
       "  u'\\u7814\\u7a76': 32,\n",
       "  u'\\u79d1\\u5b78': 33,\n",
       "  u'\\u7a7a\\u95f4': 3,\n",
       "  u'\\u7b26\\u53f7': 8,\n",
       "  u'\\u7b49': 26,\n",
       "  u'\\u7ed3\\u6784': 4,\n",
       "  u'\\u897f\\u5143\\u524d': 28,\n",
       "  u'\\u89c0\\u5bdf': 16,\n",
       "  u'\\u89d2\\u5ea6': 34,\n",
       "  u'\\u8a8d\\u70ba': 38,\n",
       "  u'\\u8bed\\u8a00': 7,\n",
       "  u'\\u900f\\u904e': 31,\n",
       "  u'\\u9ad4': 35}]"
      ]
     },
     "execution_count": 163,
     "metadata": {},
     "output_type": "execute_result"
    }
   ],
   "source": [
    "e"
   ]
  },
  {
   "cell_type": "code",
   "execution_count": 165,
   "metadata": {
    "collapsed": false
   },
   "outputs": [
    {
     "data": {
      "text/plain": [
       "41"
      ]
     },
     "execution_count": 165,
     "metadata": {},
     "output_type": "execute_result"
    }
   ],
   "source": [
    "e[3]['##1156402']"
   ]
  },
  {
   "cell_type": "code",
   "execution_count": null,
   "metadata": {
    "collapsed": true
   },
   "outputs": [],
   "source": []
  }
 ],
 "metadata": {
  "kernelspec": {
   "display_name": "Python 2",
   "language": "python",
   "name": "python2"
  },
  "language_info": {
   "codemirror_mode": {
    "name": "ipython",
    "version": 2
   },
   "file_extension": ".py",
   "mimetype": "text/x-python",
   "name": "python",
   "nbconvert_exporter": "python",
   "pygments_lexer": "ipython2",
   "version": "2.7.11"
  }
 },
 "nbformat": 4,
 "nbformat_minor": 0
}
