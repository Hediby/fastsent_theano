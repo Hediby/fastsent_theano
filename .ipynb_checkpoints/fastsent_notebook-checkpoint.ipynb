{
 "cells": [
  {
   "cell_type": "code",
   "execution_count": 1,
   "metadata": {
    "collapsed": true
   },
   "outputs": [],
   "source": [
    "import theano"
   ]
  },
  {
   "cell_type": "code",
   "execution_count": 2,
   "metadata": {
    "collapsed": true
   },
   "outputs": [],
   "source": [
    "import numpy as np\n",
    "from time import time\n",
    "import theano.tensor as T\n",
    "import cPickle\n",
    "from theano.tensor.nnet import softmax\n",
    "#dtype = theano.config.dtype\n",
    "dtype='float32'"
   ]
  },
  {
   "cell_type": "code",
   "execution_count": 3,
   "metadata": {
    "collapsed": true
   },
   "outputs": [],
   "source": [
    "i2w=[\"<pad>\",\"un\",\"deux\",\"trois\",\"quatre\",\"cinq\",\"six\",\"sept\",\"huit\",\"neuf\"]"
   ]
  },
  {
   "cell_type": "code",
   "execution_count": 4,
   "metadata": {
    "collapsed": true
   },
   "outputs": [],
   "source": [
    "index_fixe=[0,3]"
   ]
  },
  {
   "cell_type": "code",
   "execution_count": 5,
   "metadata": {
    "collapsed": true
   },
   "outputs": [],
   "source": [
    "i2f=[0,0.4,0.5,0.6,0.7,0.8,0.88,0.95,0.98,1]"
   ]
  },
  {
   "cell_type": "code",
   "execution_count": 6,
   "metadata": {
    "collapsed": false
   },
   "outputs": [
    {
     "data": {
      "text/plain": [
       "[0.8, 0.88, 0.95, 0.98, 1]"
      ]
     },
     "execution_count": 6,
     "metadata": {},
     "output_type": "execute_result"
    }
   ],
   "source": [
    "i2f[5:]"
   ]
  },
  {
   "cell_type": "code",
   "execution_count": 7,
   "metadata": {
    "collapsed": true
   },
   "outputs": [],
   "source": [
    "vocab_size = len(i2w)\n",
    "dim = 5"
   ]
  },
  {
   "cell_type": "code",
   "execution_count": 8,
   "metadata": {
    "collapsed": false
   },
   "outputs": [],
   "source": [
    "W = np.vstack((np.zeros(dim),0.001*np.random.randn(vocab_size-1, dim))).astype(dtype)\n",
    "V = np.vstack((np.zeros(dim),0.001*np.random.randn(vocab_size-1, dim))).astype(dtype)\n",
    "#0.001*np.random.randn(vocab_size, dim).astype(dtype)"
   ]
  },
  {
   "cell_type": "code",
   "execution_count": 9,
   "metadata": {
    "collapsed": false
   },
   "outputs": [
    {
     "data": {
      "text/plain": [
       "array([[  0.00000000e+00,   0.00000000e+00,   0.00000000e+00,\n",
       "          0.00000000e+00,   0.00000000e+00],\n",
       "       [  3.67685920e-04,  -8.18518165e-04,  -5.51570905e-04,\n",
       "         -1.92546682e-03,   1.05576590e-03],\n",
       "       [  1.34588347e-03,   9.56688717e-04,   5.80201915e-04,\n",
       "         -1.03196164e-03,  -5.70894801e-04],\n",
       "       [ -1.38826872e-05,   4.03675251e-04,   5.35573869e-04,\n",
       "          5.08184312e-04,  -1.56225334e-03],\n",
       "       [  6.72577822e-04,   6.94144575e-04,  -2.75114289e-04,\n",
       "          1.55758287e-04,   7.61797011e-04],\n",
       "       [ -1.28774752e-03,   2.64709495e-04,   3.02798318e-04,\n",
       "          9.55128489e-05,  -2.17208668e-04],\n",
       "       [  1.20640034e-03,  -2.24424433e-03,   1.00623246e-03,\n",
       "         -3.25804955e-04,  -3.85297375e-04],\n",
       "       [  9.70565248e-04,   7.27406470e-04,  -4.23940801e-04,\n",
       "         -8.22612259e-04,  -1.10004032e-04],\n",
       "       [ -2.76636361e-04,  -2.41060276e-04,  -1.49319856e-03,\n",
       "          1.69037061e-03,   9.59230005e-04],\n",
       "       [  1.07968540e-03,   1.36535172e-03,  -9.55994357e-04,\n",
       "         -2.55879597e-04,   4.57469519e-04]], dtype=float32)"
      ]
     },
     "execution_count": 9,
     "metadata": {},
     "output_type": "execute_result"
    }
   ],
   "source": [
    "W"
   ]
  },
  {
   "cell_type": "code",
   "execution_count": 10,
   "metadata": {
    "collapsed": false
   },
   "outputs": [],
   "source": [
    "W = theano.shared(W, name='W')\n",
    "V = theano.shared(V, name='V')"
   ]
  },
  {
   "cell_type": "code",
   "execution_count": 11,
   "metadata": {
    "collapsed": true
   },
   "outputs": [],
   "source": [
    "indexes = T.imatrix('X')\n",
    "\n",
    "batch_mask = 1-T.eq(indexes, T.zeros_like(indexes))\n",
    "mask = batch_mask[1:-1]\n",
    "maskp = batch_mask[:-2]\n",
    "maskn = batch_mask[2:]\n",
    "X_indexes = indexes[1:-1]\n",
    "Yp_indexes = indexes[:-2]\n",
    "Yn_indexes = indexes[2:]"
   ]
  },
  {
   "cell_type": "code",
   "execution_count": 132,
   "metadata": {
    "collapsed": true
   },
   "outputs": [],
   "source": [
    "batch_len,sent_len=X_indexes.shape"
   ]
  },
  {
   "cell_type": "code",
   "execution_count": 14,
   "metadata": {
    "collapsed": false
   },
   "outputs": [],
   "source": [
    "indexes1=np.array([[1,7,8,0],[2,4,0,0],[2,4,0,0],[1,8,9,4]],dtype='int32')"
   ]
  },
  {
   "cell_type": "code",
   "execution_count": 15,
   "metadata": {
    "collapsed": true
   },
   "outputs": [],
   "source": [
    "indexX=X_indexes.flatten()\n",
    "\n",
    "W_index=W[indexX]"
   ]
  },
  {
   "cell_type": "code",
   "execution_count": 16,
   "metadata": {
    "collapsed": true
   },
   "outputs": [],
   "source": [
    "X=W_index.reshape((batch_len,sent_len,-1))"
   ]
  },
  {
   "cell_type": "code",
   "execution_count": 18,
   "metadata": {
    "collapsed": false
   },
   "outputs": [
    {
     "data": {
      "text/plain": [
       "array([[ 0.00201846,  0.00165083,  0.00030509, -0.0008762 ,  0.0001909 ],\n",
       "       [ 0.00201846,  0.00165083,  0.00030509, -0.0008762 ,  0.0001909 ]], dtype=float32)"
      ]
     },
     "execution_count": 18,
     "metadata": {},
     "output_type": "execute_result"
    }
   ],
   "source": [
    "Xs = T.sum(X, axis=1)\n",
    "Xs.eval({indexes:indexes1})"
   ]
  },
  {
   "cell_type": "code",
   "execution_count": null,
   "metadata": {
    "collapsed": true
   },
   "outputs": [],
   "source": []
  },
  {
   "cell_type": "code",
   "execution_count": 23,
   "metadata": {
    "collapsed": true
   },
   "outputs": [],
   "source": [
    "neg_len=10"
   ]
  },
  {
   "cell_type": "code",
   "execution_count": 24,
   "metadata": {
    "collapsed": true
   },
   "outputs": [],
   "source": [
    "from random import random\n",
    "from bisect import bisect\n",
    "\n",
    "\n",
    "def weighted_choice():\n",
    "    x = random()\n",
    "    i = bisect(i2f, x)\n",
    "    return i"
   ]
  },
  {
   "cell_type": "code",
   "execution_count": null,
   "metadata": {
    "collapsed": true
   },
   "outputs": [],
   "source": []
  },
  {
   "cell_type": "code",
   "execution_count": 25,
   "metadata": {
    "collapsed": false
   },
   "outputs": [],
   "source": [
    "neg=[weighted_choice() for i in range(neg_len)]"
   ]
  },
  {
   "cell_type": "code",
   "execution_count": 26,
   "metadata": {
    "collapsed": true
   },
   "outputs": [],
   "source": [
    "I = [Yp_indexes, Yn_indexes]\n",
    "I = T.concatenate(I, axis=1)\n",
    "M = [maskp, maskn]\n",
    "M=T.concatenate(M, axis=1)"
   ]
  },
  {
   "cell_type": "code",
   "execution_count": 27,
   "metadata": {
    "collapsed": false
   },
   "outputs": [],
   "source": [
    "max_len=I.shape[1]\n",
    "\n",
    "pos=I.flatten()"
   ]
  },
  {
   "cell_type": "code",
   "execution_count": 28,
   "metadata": {
    "collapsed": true
   },
   "outputs": [],
   "source": [
    "index=T.concatenate([pos,neg])"
   ]
  },
  {
   "cell_type": "code",
   "execution_count": 114,
   "metadata": {
    "collapsed": false
   },
   "outputs": [
    {
     "data": {
      "text/plain": [
       "array([1, 7, 8, 0, 2, 4, 0, 0, 2, 4, 0, 0, 1, 8, 9, 4, 7, 1, 1, 1, 6, 1, 1,\n",
       "       1, 5, 1])"
      ]
     },
     "execution_count": 114,
     "metadata": {},
     "output_type": "execute_result"
    }
   ],
   "source": [
    "index.eval({indexes:indexes1})"
   ]
  },
  {
   "cell_type": "code",
   "execution_count": 29,
   "metadata": {
    "collapsed": true
   },
   "outputs": [],
   "source": [
    "V_index=V[index]"
   ]
  },
  {
   "cell_type": "code",
   "execution_count": 30,
   "metadata": {
    "collapsed": false
   },
   "outputs": [
    {
     "data": {
      "text/plain": [
       "array(2)"
      ]
     },
     "execution_count": 30,
     "metadata": {},
     "output_type": "execute_result"
    }
   ],
   "source": [
    "batch_len.eval({indexes:indexes1})"
   ]
  },
  {
   "cell_type": "code",
   "execution_count": 31,
   "metadata": {
    "collapsed": false
   },
   "outputs": [
    {
     "data": {
      "text/plain": [
       "array([[-0.00036857, -0.00073604,  0.00017893,  0.00055846, -0.00102126],\n",
       "       [-0.00066097,  0.0005526 , -0.00016924,  0.0004105 ,  0.00098169],\n",
       "       [ 0.00092678,  0.00116544, -0.00107586,  0.00037091,  0.00031154],\n",
       "       [ 0.        ,  0.        ,  0.        ,  0.        ,  0.        ],\n",
       "       [-0.00151739,  0.00021228,  0.00211028,  0.00071778, -0.00114865]], dtype=float32)"
      ]
     },
     "execution_count": 31,
     "metadata": {},
     "output_type": "execute_result"
    }
   ],
   "source": [
    "V_index.eval({indexes:indexes1})[0:5]"
   ]
  },
  {
   "cell_type": "code",
   "execution_count": 32,
   "metadata": {
    "collapsed": true
   },
   "outputs": [],
   "source": [
    "activations = T.dot(Xs, V_index.T)"
   ]
  },
  {
   "cell_type": "code",
   "execution_count": 33,
   "metadata": {
    "collapsed": false
   },
   "outputs": [
    {
     "data": {
      "text/plain": [
       "array([[ -2.58871228e-06,  -6.45793875e-07,   3.20087065e-06,\n",
       "          0.00000000e+00,  -2.91673041e-06,  -3.07839855e-06,\n",
       "          0.00000000e+00,   0.00000000e+00,  -2.91673041e-06,\n",
       "         -3.07839855e-06,   0.00000000e+00,   0.00000000e+00,\n",
       "         -2.58871228e-06,   3.20087065e-06,  -1.93550886e-06,\n",
       "         -3.07839855e-06,  -6.45793875e-07,  -2.58871228e-06,\n",
       "         -2.58871228e-06,  -2.58871228e-06,   2.15239879e-06,\n",
       "         -2.58871228e-06,  -2.58871228e-06,  -2.58871228e-06,\n",
       "         -1.11156749e-06,  -2.58871228e-06],\n",
       "       [ -2.58871228e-06,  -6.45793875e-07,   3.20087065e-06,\n",
       "          0.00000000e+00,  -2.91673041e-06,  -3.07839855e-06,\n",
       "          0.00000000e+00,   0.00000000e+00,  -2.91673041e-06,\n",
       "         -3.07839855e-06,   0.00000000e+00,   0.00000000e+00,\n",
       "         -2.58871228e-06,   3.20087065e-06,  -1.93550886e-06,\n",
       "         -3.07839855e-06,  -6.45793875e-07,  -2.58871228e-06,\n",
       "         -2.58871228e-06,  -2.58871228e-06,   2.15239879e-06,\n",
       "         -2.58871228e-06,  -2.58871228e-06,  -2.58871228e-06,\n",
       "         -1.11156749e-06,  -2.58871228e-06]], dtype=float32)"
      ]
     },
     "execution_count": 33,
     "metadata": {},
     "output_type": "execute_result"
    }
   ],
   "source": [
    "activations.eval({indexes:indexes1})"
   ]
  },
  {
   "cell_type": "code",
   "execution_count": null,
   "metadata": {
    "collapsed": true
   },
   "outputs": [],
   "source": []
  },
  {
   "cell_type": "code",
   "execution_count": 34,
   "metadata": {
    "collapsed": false
   },
   "outputs": [],
   "source": [
    "chelou_line=T.arange(I.shape[0]).reshape((-1,1))\n"
   ]
  },
  {
   "cell_type": "code",
   "execution_count": null,
   "metadata": {
    "collapsed": true
   },
   "outputs": [],
   "source": []
  },
  {
   "cell_type": "code",
   "execution_count": null,
   "metadata": {
    "collapsed": true
   },
   "outputs": [],
   "source": []
  },
  {
   "cell_type": "code",
   "execution_count": 35,
   "metadata": {
    "collapsed": true
   },
   "outputs": [],
   "source": [
    "pos_columns=T.arange(batch_len*max_len).reshape((batch_len,-1))"
   ]
  },
  {
   "cell_type": "code",
   "execution_count": 36,
   "metadata": {
    "collapsed": false
   },
   "outputs": [],
   "source": [
    "neg_columns=(T.arange(batch_len*max_len,(batch_len*max_len+neg_len)))"
   ]
  },
  {
   "cell_type": "code",
   "execution_count": 37,
   "metadata": {
    "collapsed": true
   },
   "outputs": [],
   "source": [
    "shaped_neg_columns=(neg_columns.reshape((1,-1)))"
   ]
  },
  {
   "cell_type": "code",
   "execution_count": 38,
   "metadata": {
    "collapsed": false
   },
   "outputs": [
    {
     "data": {
      "text/plain": [
       "array([[16, 17, 18, 19, 20, 21, 22, 23, 24, 25]])"
      ]
     },
     "execution_count": 38,
     "metadata": {},
     "output_type": "execute_result"
    }
   ],
   "source": [
    "shaped_neg_columns.eval({indexes:indexes1})"
   ]
  },
  {
   "cell_type": "code",
   "execution_count": 39,
   "metadata": {
    "collapsed": false
   },
   "outputs": [
    {
     "data": {
      "text/plain": [
       "array([[ 0,  1,  2,  3,  4,  5,  6,  7],\n",
       "       [ 8,  9, 10, 11, 12, 13, 14, 15]])"
      ]
     },
     "execution_count": 39,
     "metadata": {},
     "output_type": "execute_result"
    }
   ],
   "source": [
    "pos_columns.eval({indexes:indexes1},)"
   ]
  },
  {
   "cell_type": "code",
   "execution_count": 40,
   "metadata": {
    "collapsed": false
   },
   "outputs": [],
   "source": [
    "rep_neg_columns=T.repeat(shaped_neg_columns,batch_len,axis=0)"
   ]
  },
  {
   "cell_type": "code",
   "execution_count": 41,
   "metadata": {
    "collapsed": false
   },
   "outputs": [
    {
     "data": {
      "text/plain": [
       "array([[16, 17, 18, 19, 20, 21, 22, 23, 24, 25],\n",
       "       [16, 17, 18, 19, 20, 21, 22, 23, 24, 25]])"
      ]
     },
     "execution_count": 41,
     "metadata": {},
     "output_type": "execute_result"
    }
   ],
   "source": [
    "rep_neg_columns.eval({indexes:indexes1},)"
   ]
  },
  {
   "cell_type": "code",
   "execution_count": 42,
   "metadata": {
    "collapsed": false
   },
   "outputs": [
    {
     "data": {
      "text/plain": [
       "array([[ 0,  1,  2,  3,  4,  5,  6,  7, 16, 17, 18, 19, 20, 21, 22, 23, 24,\n",
       "        25],\n",
       "       [ 8,  9, 10, 11, 12, 13, 14, 15, 16, 17, 18, 19, 20, 21, 22, 23, 24,\n",
       "        25]])"
      ]
     },
     "execution_count": 42,
     "metadata": {},
     "output_type": "execute_result"
    }
   ],
   "source": [
    "chelou_column=T.concatenate((pos_columns,rep_neg_columns),axis=1)\n",
    "\n",
    "chelou_column.eval({indexes:indexes1})"
   ]
  },
  {
   "cell_type": "code",
   "execution_count": 43,
   "metadata": {
    "collapsed": true
   },
   "outputs": [],
   "source": [
    "acti_posneg=activations[chelou_line,chelou_column]"
   ]
  },
  {
   "cell_type": "code",
   "execution_count": 44,
   "metadata": {
    "collapsed": false
   },
   "outputs": [
    {
     "data": {
      "text/plain": [
       "array([[ -2.58871228e-06,  -6.45793875e-07,   3.20087065e-06,\n",
       "          0.00000000e+00,  -2.91673041e-06,  -3.07839855e-06,\n",
       "          0.00000000e+00,   0.00000000e+00,  -6.45793875e-07,\n",
       "         -2.58871228e-06,  -2.58871228e-06,  -2.58871228e-06,\n",
       "          2.15239879e-06,  -2.58871228e-06,  -2.58871228e-06,\n",
       "         -2.58871228e-06,  -1.11156749e-06,  -2.58871228e-06],\n",
       "       [ -2.91673041e-06,  -3.07839855e-06,   0.00000000e+00,\n",
       "          0.00000000e+00,  -2.58871228e-06,   3.20087065e-06,\n",
       "         -1.93550886e-06,  -3.07839855e-06,  -6.45793875e-07,\n",
       "         -2.58871228e-06,  -2.58871228e-06,  -2.58871228e-06,\n",
       "          2.15239879e-06,  -2.58871228e-06,  -2.58871228e-06,\n",
       "         -2.58871228e-06,  -1.11156749e-06,  -2.58871228e-06]], dtype=float32)"
      ]
     },
     "execution_count": 44,
     "metadata": {},
     "output_type": "execute_result"
    }
   ],
   "source": [
    "acti_posneg.eval({indexes:indexes1})"
   ]
  },
  {
   "cell_type": "code",
   "execution_count": 45,
   "metadata": {
    "collapsed": true
   },
   "outputs": [],
   "source": [
    "mask_neg_zero=T.zeros_like(rep_neg_columns)"
   ]
  },
  {
   "cell_type": "code",
   "execution_count": 46,
   "metadata": {
    "collapsed": false
   },
   "outputs": [],
   "source": [
    "mask_neg=(1-mask_neg_zero)"
   ]
  },
  {
   "cell_type": "code",
   "execution_count": null,
   "metadata": {
    "collapsed": true
   },
   "outputs": [],
   "source": []
  },
  {
   "cell_type": "code",
   "execution_count": 47,
   "metadata": {
    "collapsed": true
   },
   "outputs": [],
   "source": [
    "mask_full = T.concatenate((M,mask_neg),axis=1)"
   ]
  },
  {
   "cell_type": "code",
   "execution_count": 48,
   "metadata": {
    "collapsed": false
   },
   "outputs": [],
   "source": [
    "mask_zero=T.concatenate((M,mask_neg_zero),axis=1)"
   ]
  },
  {
   "cell_type": "code",
   "execution_count": 49,
   "metadata": {
    "collapsed": true
   },
   "outputs": [],
   "source": [
    "acti_mask=acti_posneg*mask_full"
   ]
  },
  {
   "cell_type": "code",
   "execution_count": 50,
   "metadata": {
    "collapsed": false
   },
   "outputs": [
    {
     "data": {
      "text/plain": [
       "array([[ -2.58871228e-06,  -6.45793875e-07,   3.20087065e-06,\n",
       "          0.00000000e+00,  -2.91673041e-06,  -3.07839855e-06,\n",
       "          0.00000000e+00,   0.00000000e+00,  -6.45793875e-07,\n",
       "         -2.58871228e-06,  -2.58871228e-06,  -2.58871228e-06,\n",
       "          2.15239879e-06,  -2.58871228e-06,  -2.58871228e-06,\n",
       "         -2.58871228e-06,  -1.11156749e-06,  -2.58871228e-06],\n",
       "       [ -2.91673041e-06,  -3.07839855e-06,   0.00000000e+00,\n",
       "          0.00000000e+00,  -2.58871228e-06,   3.20087065e-06,\n",
       "         -1.93550886e-06,  -3.07839855e-06,  -6.45793875e-07,\n",
       "         -2.58871228e-06,  -2.58871228e-06,  -2.58871228e-06,\n",
       "          2.15239879e-06,  -2.58871228e-06,  -2.58871228e-06,\n",
       "         -2.58871228e-06,  -1.11156749e-06,  -2.58871228e-06]])"
      ]
     },
     "execution_count": 50,
     "metadata": {},
     "output_type": "execute_result"
    }
   ],
   "source": [
    "acti_mask.eval({indexes:indexes1})"
   ]
  },
  {
   "cell_type": "code",
   "execution_count": 51,
   "metadata": {
    "collapsed": false
   },
   "outputs": [
    {
     "data": {
      "text/plain": [
       "array([[ 0.05555549,  0.05555559,  0.05555581,  0.05555563,  0.05555547,\n",
       "         0.05555546,  0.05555563,  0.05555563,  0.05555559,  0.05555549,\n",
       "         0.05555549,  0.05555549,  0.05555575,  0.05555549,  0.05555549,\n",
       "         0.05555549,  0.05555557,  0.05555549],\n",
       "       [ 0.05555548,  0.05555547,  0.05555564,  0.05555564,  0.0555555 ,\n",
       "         0.05555582,  0.05555553,  0.05555547,  0.05555561,  0.0555555 ,\n",
       "         0.0555555 ,  0.0555555 ,  0.05555576,  0.0555555 ,  0.0555555 ,\n",
       "         0.0555555 ,  0.05555558,  0.0555555 ]])"
      ]
     },
     "execution_count": 51,
     "metadata": {},
     "output_type": "execute_result"
    }
   ],
   "source": [
    "prediction = softmax(acti_mask)\n",
    "\n",
    "prediction.eval({indexes:indexes1})"
   ]
  },
  {
   "cell_type": "code",
   "execution_count": 52,
   "metadata": {
    "collapsed": false
   },
   "outputs": [],
   "source": [
    "logpred=T.log(prediction)*mask_zero"
   ]
  },
  {
   "cell_type": "code",
   "execution_count": 53,
   "metadata": {
    "collapsed": false
   },
   "outputs": [
    {
     "data": {
      "text/plain": [
       "array([[ 0.05555549,  0.05555559,  0.05555581,  0.05555563,  0.05555547,\n",
       "         0.05555546,  0.05555563,  0.05555563,  0.05555559,  0.05555549,\n",
       "         0.05555549,  0.05555549,  0.05555575,  0.05555549,  0.05555549,\n",
       "         0.05555549,  0.05555557,  0.05555549],\n",
       "       [ 0.05555548,  0.05555547,  0.05555564,  0.05555564,  0.0555555 ,\n",
       "         0.05555582,  0.05555553,  0.05555547,  0.05555561,  0.0555555 ,\n",
       "         0.0555555 ,  0.0555555 ,  0.05555576,  0.0555555 ,  0.0555555 ,\n",
       "         0.0555555 ,  0.05555558,  0.0555555 ]])"
      ]
     },
     "execution_count": 53,
     "metadata": {},
     "output_type": "execute_result"
    }
   ],
   "source": [
    "prediction.eval({indexes:indexes1})"
   ]
  },
  {
   "cell_type": "code",
   "execution_count": 54,
   "metadata": {
    "collapsed": false
   },
   "outputs": [],
   "source": [
    "cost = T.mean(T.sum(-T.log(prediction)*mask_zero, axis=1))"
   ]
  },
  {
   "cell_type": "code",
   "execution_count": 55,
   "metadata": {
    "collapsed": false
   },
   "outputs": [
    {
     "data": {
      "text/plain": [
       "array(15.897044894855453)"
      ]
     },
     "execution_count": 55,
     "metadata": {},
     "output_type": "execute_result"
    }
   ],
   "source": [
    "cost.eval({indexes:indexes1})"
   ]
  },
  {
   "cell_type": "code",
   "execution_count": 55,
   "metadata": {
    "collapsed": false
   },
   "outputs": [],
   "source": [
    "lr = T.scalar('lr', dtype=dtype)"
   ]
  },
  {
   "cell_type": "code",
   "execution_count": 58,
   "metadata": {
    "collapsed": true
   },
   "outputs": [],
   "source": [
    "params = [W_index,V_index]\n",
    "#not W but subtensor of W"
   ]
  },
  {
   "cell_type": "code",
   "execution_count": 59,
   "metadata": {
    "collapsed": true
   },
   "outputs": [],
   "source": [
    "params_name=[\"W_index\",\"V_index\"]"
   ]
  },
  {
   "cell_type": "code",
   "execution_count": 60,
   "metadata": {
    "collapsed": false
   },
   "outputs": [],
   "source": [
    "grads = T.grad(cost, params)"
   ]
  },
  {
   "cell_type": "code",
   "execution_count": 73,
   "metadata": {
    "collapsed": false
   },
   "outputs": [
    {
     "data": {
      "text/plain": [
       "[Reshape{2}.0, DimShuffle{1,0}.0]"
      ]
     },
     "execution_count": 73,
     "metadata": {},
     "output_type": "execute_result"
    }
   ],
   "source": [
    "grads"
   ]
  },
  {
   "cell_type": "code",
   "execution_count": 74,
   "metadata": {
    "collapsed": false
   },
   "outputs": [
    {
     "data": {
      "text/plain": [
       "array([[ 0.00134579,  0.00095667,  0.00058025, -0.00103203, -0.00057065],\n",
       "       [ 0.00067248,  0.00069412, -0.00027506,  0.00015569,  0.00076204],\n",
       "       [ 0.        ,  0.        ,  0.        ,  0.        ,  0.        ],\n",
       "       [ 0.        ,  0.        ,  0.        ,  0.        ,  0.        ],\n",
       "       [ 0.00134579,  0.00095667,  0.00058025, -0.00103203, -0.00057065],\n",
       "       [ 0.00067248,  0.00069412, -0.00027506,  0.00015569,  0.00076204],\n",
       "       [ 0.        ,  0.        ,  0.        ,  0.        ,  0.        ],\n",
       "       [ 0.        ,  0.        ,  0.        ,  0.        ,  0.        ]], dtype=float32)"
      ]
     },
     "execution_count": 74,
     "metadata": {},
     "output_type": "execute_result"
    }
   ],
   "source": [
    "W_index.eval({indexes:indexes1})"
   ]
  },
  {
   "cell_type": "code",
   "execution_count": 72,
   "metadata": {
    "collapsed": false
   },
   "outputs": [
    {
     "data": {
      "text/plain": [
       "array([[ 0.0004001 , -0.00060944, -0.00016033, -0.00017079, -0.00098464],\n",
       "       [ 0.0004001 , -0.00060944, -0.00016033, -0.00017079, -0.00098464],\n",
       "       [ 0.0004001 , -0.00060944, -0.00016033, -0.00017079, -0.00098464],\n",
       "       [ 0.0004001 , -0.00060944, -0.00016033, -0.00017079, -0.00098464],\n",
       "       [ 0.00046487,  0.00010898, -0.00026042,  0.00033778, -0.00122052],\n",
       "       [ 0.00046487,  0.00010898, -0.00026042,  0.00033778, -0.00122052],\n",
       "       [ 0.00046487,  0.00010898, -0.00026042,  0.00033778, -0.00122052],\n",
       "       [ 0.00046487,  0.00010898, -0.00026042,  0.00033778, -0.00122052]], dtype=float32)"
      ]
     },
     "execution_count": 72,
     "metadata": {},
     "output_type": "execute_result"
    }
   ],
   "source": [
    "grads[0].eval({indexes:indexes1})"
   ]
  },
  {
   "cell_type": "code",
   "execution_count": 78,
   "metadata": {
    "collapsed": true
   },
   "outputs": [],
   "source": [
    "lr=1"
   ]
  },
  {
   "cell_type": "code",
   "execution_count": 79,
   "metadata": {
    "collapsed": true
   },
   "outputs": [],
   "source": [
    "updates = [(p, p-lr*g) for p,g in zip(params, grads)]\n",
    "\n"
   ]
  },
  {
   "cell_type": "code",
   "execution_count": 116,
   "metadata": {
    "collapsed": false
   },
   "outputs": [],
   "source": [
    "updates = []\n",
    "sub_update={}\n",
    "\n",
    "for p,g,n in zip(params, grads,params_name):\n",
    "    sub_update[n]=-lr*g"
   ]
  },
  {
   "cell_type": "code",
   "execution_count": 95,
   "metadata": {
    "collapsed": false
   },
   "outputs": [
    {
     "data": {
      "text/plain": [
       "{1, 2}"
      ]
     },
     "execution_count": 95,
     "metadata": {},
     "output_type": "execute_result"
    }
   ],
   "source": [
    "set([1,2])"
   ]
  },
  {
   "cell_type": "code",
   "execution_count": 110,
   "metadata": {
    "collapsed": true
   },
   "outputs": [],
   "source": [
    "test=np.array([1,2,3,4])"
   ]
  },
  {
   "cell_type": "code",
   "execution_count": 111,
   "metadata": {
    "collapsed": false
   },
   "outputs": [],
   "source": [
    "test[[1,2,2]]=[0,1,2]"
   ]
  },
  {
   "cell_type": "code",
   "execution_count": 112,
   "metadata": {
    "collapsed": false
   },
   "outputs": [
    {
     "data": {
      "text/plain": [
       "array([1, 0, 2, 4])"
      ]
     },
     "execution_count": 112,
     "metadata": {},
     "output_type": "execute_result"
    }
   ],
   "source": [
    "test"
   ]
  },
  {
   "cell_type": "code",
   "execution_count": 115,
   "metadata": {
    "collapsed": true
   },
   "outputs": [],
   "source": [
    "T.inc_subtensor?"
   ]
  },
  {
   "cell_type": "code",
   "execution_count": 125,
   "metadata": {
    "collapsed": true
   },
   "outputs": [],
   "source": [
    "updateV=T.inc_subtensor(V[index],sub_update[\"V_index\"] )\n",
    "updateV=T.set_subtensor(updateV[index_fixe],V[index_fixe])"
   ]
  },
  {
   "cell_type": "code",
   "execution_count": 119,
   "metadata": {
    "collapsed": false
   },
   "outputs": [],
   "source": [
    "updateW=T.inc_subtensor(W[X_flatten],sub_update[\"W_index\"])\n",
    "updateW=T.set_subtensor(updateW[index_fixe],W[index_fixe])"
   ]
  },
  {
   "cell_type": "code",
   "execution_count": 127,
   "metadata": {
    "collapsed": false
   },
   "outputs": [
    {
     "data": {
      "text/plain": [
       "array([ True, False, False, False, False, False, False, False, False,\n",
       "       False, False, False,  True, False, False, False, False,  True,\n",
       "        True,  True, False,  True,  True,  True, False,  True], dtype=bool)"
      ]
     },
     "execution_count": 127,
     "metadata": {},
     "output_type": "execute_result"
    }
   ],
   "source": [
    "index.eval({indexes:indexes1})==1"
   ]
  },
  {
   "cell_type": "code",
   "execution_count": 131,
   "metadata": {
    "collapsed": false
   },
   "outputs": [
    {
     "data": {
      "text/plain": [
       "array([ 0.00291528,  0.00238447,  0.00044083, -0.00126582,  0.00027645], dtype=float32)"
      ]
     },
     "execution_count": 131,
     "metadata": {},
     "output_type": "execute_result"
    }
   ],
   "source": [
    "np.sum(grads[1].eval({indexes:indexes1})[index.eval({indexes:indexes1})==1],axis=0)"
   ]
  },
  {
   "cell_type": "code",
   "execution_count": null,
   "metadata": {
    "collapsed": true
   },
   "outputs": [],
   "source": []
  },
  {
   "cell_type": "code",
   "execution_count": 88,
   "metadata": {
    "collapsed": false
   },
   "outputs": [
    {
     "data": {
      "text/plain": [
       "array([2, 4, 0, 0, 2, 4, 0, 0], dtype=int32)"
      ]
     },
     "execution_count": 88,
     "metadata": {},
     "output_type": "execute_result"
    }
   ],
   "source": [
    "X_flatten.eval({indexes:indexes1})"
   ]
  },
  {
   "cell_type": "code",
   "execution_count": 120,
   "metadata": {
    "collapsed": false
   },
   "outputs": [
    {
     "data": {
      "text/plain": [
       "array([[ 0.0004001 , -0.00060944, -0.00016033, -0.00017079, -0.00098464],\n",
       "       [ 0.0004001 , -0.00060944, -0.00016033, -0.00017079, -0.00098464],\n",
       "       [ 0.0004001 , -0.00060944, -0.00016033, -0.00017079, -0.00098464],\n",
       "       [ 0.0004001 , -0.00060944, -0.00016033, -0.00017079, -0.00098464],\n",
       "       [ 0.00046487,  0.00010898, -0.00026042,  0.00033778, -0.00122052],\n",
       "       [ 0.00046487,  0.00010898, -0.00026042,  0.00033778, -0.00122052],\n",
       "       [ 0.00046487,  0.00010898, -0.00026042,  0.00033778, -0.00122052],\n",
       "       [ 0.00046487,  0.00010898, -0.00026042,  0.00033778, -0.00122052]], dtype=float32)"
      ]
     },
     "execution_count": 120,
     "metadata": {},
     "output_type": "execute_result"
    }
   ],
   "source": [
    "grads[0].eval({indexes:indexes1})"
   ]
  },
  {
   "cell_type": "code",
   "execution_count": 122,
   "metadata": {
    "collapsed": false
   },
   "outputs": [
    {
     "data": {
      "text/plain": [
       "0.00016698999999999997"
      ]
     },
     "execution_count": 122,
     "metadata": {},
     "output_type": "execute_result"
    }
   ],
   "source": [
    "-0.00017079+0.00033778\n"
   ]
  },
  {
   "cell_type": "code",
   "execution_count": 124,
   "metadata": {
    "collapsed": false
   },
   "outputs": [
    {
     "data": {
      "text/plain": [
       "array([[  0.00000000e+00,   0.00000000e+00,   0.00000000e+00,\n",
       "          0.00000000e+00,   0.00000000e+00],\n",
       "       [ -2.91528110e-03,  -2.38446938e-03,  -4.40831733e-04,\n",
       "          1.26581988e-03,  -2.76452163e-04],\n",
       "       [  1.40158087e-03,   1.14638230e-03,   2.11938983e-04,\n",
       "         -6.08568720e-04,   1.32910092e-04],\n",
       "       [  0.00000000e+00,   0.00000000e+00,   0.00000000e+00,\n",
       "          0.00000000e+00,   0.00000000e+00],\n",
       "       [  2.07433989e-03,   1.69664598e-03,   3.13669530e-04,\n",
       "         -9.00681829e-04,   1.96706969e-04],\n",
       "       [ -6.16695383e-04,  -5.04408032e-04,  -9.32530675e-05,\n",
       "          2.67770141e-04,  -5.84804220e-05],\n",
       "       [ -6.16697420e-04,  -5.04409720e-04,  -9.32533294e-05,\n",
       "          2.67770956e-04,  -5.84806257e-05],\n",
       "       [  1.12125650e-04,   9.17099533e-05,   1.69550040e-05,\n",
       "         -4.86851495e-05,   1.06327934e-05],\n",
       "       [  1.40157726e-03,   1.14637928e-03,   2.11938284e-04,\n",
       "         -6.08567032e-04,   1.32909772e-04],\n",
       "       [  6.72758557e-04,   5.50263270e-04,   1.01730635e-04,\n",
       "         -2.92112876e-04,   6.37968478e-05]], dtype=float32)"
      ]
     },
     "execution_count": 124,
     "metadata": {},
     "output_type": "execute_result"
    }
   ],
   "source": [
    "updateV.eval({indexes:indexes1})- V.get_value()"
   ]
  },
  {
   "cell_type": "code",
   "execution_count": 84,
   "metadata": {
    "collapsed": false
   },
   "outputs": [],
   "source": [
    "updates.append((V,updateV))\n",
    "updates.append((W,updateW))"
   ]
  },
  {
   "cell_type": "code",
   "execution_count": 67,
   "metadata": {
    "collapsed": false
   },
   "outputs": [],
   "source": [
    "fun_cost=theano.function(inputs = [indexes], outputs = cost,updates=updates,allow_input_downcast=True,mode='DebugMode')"
   ]
  },
  {
   "cell_type": "code",
   "execution_count": 68,
   "metadata": {
    "collapsed": false
   },
   "outputs": [
    {
     "data": {
      "text/plain": [
       "array(15.897044894855668)"
      ]
     },
     "execution_count": 68,
     "metadata": {},
     "output_type": "execute_result"
    }
   ],
   "source": [
    "fun_cost(indexes1)"
   ]
  },
  {
   "cell_type": "code",
   "execution_count": 69,
   "metadata": {
    "collapsed": false
   },
   "outputs": [
    {
     "data": {
      "text/plain": [
       "array(15.897044893037961)"
      ]
     },
     "execution_count": 69,
     "metadata": {},
     "output_type": "execute_result"
    }
   ],
   "source": [
    "fun_cost(indexes1)"
   ]
  },
  {
   "cell_type": "code",
   "execution_count": 70,
   "metadata": {
    "collapsed": false
   },
   "outputs": [
    {
     "data": {
      "text/plain": [
       "array([[  0.00000000e+00,   0.00000000e+00,   0.00000000e+00,\n",
       "          0.00000000e+00,   0.00000000e+00],\n",
       "       [  3.67685920e-04,  -8.18518165e-04,  -5.51570905e-04,\n",
       "         -1.92546682e-03,   1.05576590e-03],\n",
       "       [  1.34579046e-03,   9.56666830e-04,   5.80253953e-04,\n",
       "         -1.03202916e-03,  -5.70650678e-04],\n",
       "       [ -1.38826872e-05,   4.03675251e-04,   5.35573869e-04,\n",
       "          5.08184312e-04,  -1.56225334e-03],\n",
       "       [  6.72484806e-04,   6.94122689e-04,  -2.75062193e-04,\n",
       "          1.55690752e-04,   7.62041134e-04],\n",
       "       [ -1.28774752e-03,   2.64709495e-04,   3.02798318e-04,\n",
       "          9.55128489e-05,  -2.17208668e-04],\n",
       "       [  1.20640034e-03,  -2.24424433e-03,   1.00623246e-03,\n",
       "         -3.25804955e-04,  -3.85297375e-04],\n",
       "       [  9.70565248e-04,   7.27406470e-04,  -4.23940801e-04,\n",
       "         -8.22612259e-04,  -1.10004032e-04],\n",
       "       [ -2.76636361e-04,  -2.41060276e-04,  -1.49319856e-03,\n",
       "          1.69037061e-03,   9.59230005e-04],\n",
       "       [  1.07968540e-03,   1.36535172e-03,  -9.55994357e-04,\n",
       "         -2.55879597e-04,   4.57469519e-04]], dtype=float32)"
      ]
     },
     "execution_count": 70,
     "metadata": {},
     "output_type": "execute_result"
    }
   ],
   "source": [
    "W.get_value()"
   ]
  },
  {
   "cell_type": "code",
   "execution_count": 66,
   "metadata": {
    "collapsed": false
   },
   "outputs": [
    {
     "data": {
      "text/plain": [
       "array([[  0.00000000e+00,   0.00000000e+00,   0.00000000e+00,\n",
       "          0.00000000e+00,   0.00000000e+00],\n",
       "       [ -1.17721513e-03,   1.37171010e-03,   4.95452899e-04,\n",
       "         -2.25335592e-04,  -3.79721663e-04],\n",
       "       [  8.76754057e-04,  -1.00329053e-05,   5.86552080e-04,\n",
       "          1.77010486e-04,  -2.66592228e-03],\n",
       "       [ -1.00104534e-03,   1.13159430e-03,   3.40168102e-04,\n",
       "         -5.45030460e-04,  -9.77109070e-04],\n",
       "       [  8.98642640e-04,   3.40753119e-04,  -1.39003649e-04,\n",
       "         -1.35730347e-03,  -1.22595171e-03],\n",
       "       [  1.48651819e-03,  -1.19569944e-04,  -8.63898313e-05,\n",
       "         -2.14076065e-03,  -2.30405573e-03],\n",
       "       [ -1.29415351e-03,   8.74533318e-04,  -3.04370676e-03,\n",
       "         -4.19470336e-04,   6.09797426e-05],\n",
       "       [ -9.03261942e-04,  -2.16961955e-04,   1.07093761e-03,\n",
       "         -1.96898705e-03,   2.56974273e-03],\n",
       "       [ -1.71902985e-03,  -4.98983427e-04,  -3.27271613e-04,\n",
       "          2.98244599e-03,   9.83668840e-04],\n",
       "       [  4.17386735e-04,  -3.25882720e-04,   1.48342311e-04,\n",
       "          1.26957544e-03,   1.75476051e-03]], dtype=float32)"
      ]
     },
     "execution_count": 66,
     "metadata": {},
     "output_type": "execute_result"
    }
   ],
   "source": [
    "V.get_value()"
   ]
  },
  {
   "cell_type": "code",
   "execution_count": 67,
   "metadata": {
    "collapsed": false
   },
   "outputs": [
    {
     "data": {
      "text/plain": [
       "array([[  0.00000000e+00,   0.00000000e+00,   0.00000000e+00,\n",
       "          0.00000000e+00,   0.00000000e+00],\n",
       "       [ -1.17721513e-03,   1.37171010e-03,   4.95452899e-04,\n",
       "         -2.25335592e-04,  -3.79721663e-04],\n",
       "       [  8.76754057e-04,  -1.00329053e-05,   5.86552080e-04,\n",
       "          1.77010486e-04,  -2.66592228e-03],\n",
       "       [ -1.00104534e-03,   1.13159430e-03,   3.40168102e-04,\n",
       "         -5.45030460e-04,  -9.77109070e-04],\n",
       "       [  8.98642640e-04,   3.40753119e-04,  -1.39003649e-04,\n",
       "         -1.35730347e-03,  -1.22595171e-03],\n",
       "       [  1.48651819e-03,  -1.19569944e-04,  -8.63898313e-05,\n",
       "         -2.14076065e-03,  -2.30405573e-03],\n",
       "       [ -1.29415351e-03,   8.74533318e-04,  -3.04370676e-03,\n",
       "         -4.19470336e-04,   6.09797426e-05],\n",
       "       [ -9.03261942e-04,  -2.16961955e-04,   1.07093761e-03,\n",
       "         -1.96898705e-03,   2.56974273e-03],\n",
       "       [ -1.71902985e-03,  -4.98983427e-04,  -3.27271613e-04,\n",
       "          2.98244599e-03,   9.83668840e-04],\n",
       "       [  4.17386735e-04,  -3.25882720e-04,   1.48342311e-04,\n",
       "          1.26957544e-03,   1.75476051e-03]], dtype=float32)"
      ]
     },
     "execution_count": 67,
     "metadata": {},
     "output_type": "execute_result"
    }
   ],
   "source": [
    "V.get_value()"
   ]
  },
  {
   "cell_type": "code",
   "execution_count": 139,
   "metadata": {
    "collapsed": false
   },
   "outputs": [],
   "source": [
    "import cPickle"
   ]
  },
  {
   "cell_type": "code",
   "execution_count": 141,
   "metadata": {
    "collapsed": false
   },
   "outputs": [
    {
     "name": "stdout",
     "output_type": "stream",
     "text": [
      "<open file 'chineseModel', mode 'rb' at 0x1082db8a0>\n"
     ]
    },
    {
     "ename": "EOFError",
     "evalue": "",
     "output_type": "error",
     "traceback": [
      "\u001b[0;31m---------------------------------------------------------------------------\u001b[0m",
      "\u001b[0;31mEOFError\u001b[0m                                  Traceback (most recent call last)",
      "\u001b[0;32m<ipython-input-141-3f876b4b4936>\u001b[0m in \u001b[0;36m<module>\u001b[0;34m()\u001b[0m\n\u001b[1;32m      1\u001b[0m \u001b[0;32mwith\u001b[0m \u001b[0mopen\u001b[0m\u001b[0;34m(\u001b[0m\u001b[0;34mr\"chineseModel\"\u001b[0m\u001b[0;34m,\u001b[0m \u001b[0;34m\"rb\"\u001b[0m\u001b[0;34m)\u001b[0m \u001b[0;32mas\u001b[0m \u001b[0minput_file\u001b[0m\u001b[0;34m:\u001b[0m\u001b[0;34m\u001b[0m\u001b[0m\n\u001b[1;32m      2\u001b[0m     \u001b[0;32mprint\u001b[0m \u001b[0minput_file\u001b[0m\u001b[0;34m\u001b[0m\u001b[0m\n\u001b[0;32m----> 3\u001b[0;31m     \u001b[0me\u001b[0m \u001b[0;34m=\u001b[0m \u001b[0mcPickle\u001b[0m\u001b[0;34m.\u001b[0m\u001b[0mload\u001b[0m\u001b[0;34m(\u001b[0m\u001b[0minput_file\u001b[0m\u001b[0;34m)\u001b[0m\u001b[0;34m\u001b[0m\u001b[0m\n\u001b[0m",
      "\u001b[0;31mEOFError\u001b[0m: "
     ]
    }
   ],
   "source": [
    "with open(r\"chineseModel\", \"rb\") as input_file:\n",
    "    print input_file\n",
    "    e = cPickle.load(input_file)"
   ]
  },
  {
   "cell_type": "code",
   "execution_count": 147,
   "metadata": {
    "collapsed": true
   },
   "outputs": [],
   "source": [
    "input_file=open(r\"chineseModel\", \"r\")"
   ]
  },
  {
   "cell_type": "code",
   "execution_count": 148,
   "metadata": {
    "collapsed": false
   },
   "outputs": [],
   "source": [
    "e = cPickle.load(input_file)"
   ]
  },
  {
   "cell_type": "code",
   "execution_count": 151,
   "metadata": {
    "collapsed": false
   },
   "outputs": [
    {
     "data": {
      "text/plain": [
       "array([[ -1.92368209e-01,  -7.28674710e-01,  -4.62533832e-01,\n",
       "         -5.97649634e-01,  -8.10181320e-01,  -2.34797001e-01],\n",
       "       [ -1.11591062e-02,  -3.97108048e-02,  -2.43819356e-02,\n",
       "         -3.06209773e-02,  -4.48724329e-02,  -1.13492357e-02],\n",
       "       [ -2.65295468e-02,  -1.04369022e-01,  -6.48596808e-02,\n",
       "         -8.57287124e-02,  -1.15336791e-01,  -3.27772610e-02],\n",
       "       [ -1.32914474e-02,  -5.04049323e-02,  -3.13117579e-02,\n",
       "         -4.05425392e-02,  -5.40076047e-02,  -1.49640329e-02],\n",
       "       [ -1.25063444e-02,  -4.69319187e-02,  -2.99838092e-02,\n",
       "         -4.06057350e-02,  -5.32927737e-02,  -1.67715959e-02],\n",
       "       [ -5.52809564e-03,  -2.27414183e-02,  -1.32629164e-02,\n",
       "         -1.70713421e-02,  -2.51268279e-02,  -6.16595708e-03],\n",
       "       [  1.54505472e-03,   8.50876968e-04,   8.38396023e-04,\n",
       "         -2.80086161e-03,   1.25872542e-03,   2.24681757e-03],\n",
       "       [ -2.25068498e-02,  -9.06627551e-02,  -5.42163327e-02,\n",
       "         -7.25604296e-02,  -9.96653736e-02,  -2.96084993e-02],\n",
       "       [ -8.50397348e-03,  -3.65819819e-02,  -2.09841020e-02,\n",
       "         -3.04232482e-02,  -3.75345759e-02,  -1.13950493e-02],\n",
       "       [ -6.21072156e-03,  -9.22361482e-03,  -8.05984903e-03,\n",
       "         -6.48641167e-03,  -1.18414499e-02,  -1.08114548e-03],\n",
       "       [ -6.96292380e-03,  -3.47895361e-02,  -2.22055204e-02,\n",
       "         -2.97800135e-02,  -3.93512920e-02,  -1.19780274e-02],\n",
       "       [  5.82168286e-04,   2.90205469e-04,  -2.08031517e-04,\n",
       "          3.29535222e-04,  -1.68233039e-03,   1.59396639e-03],\n",
       "       [ -7.25533289e-04,   6.57949015e-04,   4.37307463e-04,\n",
       "         -3.49649963e-05,  -7.97922781e-04,   4.50827356e-04],\n",
       "       [ -1.99905839e-02,  -8.05775523e-02,  -4.99647856e-02,\n",
       "         -6.48462921e-02,  -8.93359184e-02,  -2.57684477e-02],\n",
       "       [ -2.04534736e-03,  -7.72458548e-03,  -6.59631612e-03,\n",
       "         -5.71310287e-03,  -7.76764611e-03,  -1.36364193e-03],\n",
       "       [ -6.96343789e-03,  -2.22817268e-02,  -1.45984450e-02,\n",
       "         -1.90625023e-02,  -2.61215400e-02,  -6.20398577e-03],\n",
       "       [  1.77557289e-03,  -1.12924616e-04,  -1.73126545e-03,\n",
       "         -8.48824624e-04,  -1.54430722e-03,   1.26535306e-03],\n",
       "       [  1.45171434e-05,   1.25320558e-03,  -3.41336621e-04,\n",
       "          1.57943941e-04,  -1.29567081e-04,  -1.17375785e-04],\n",
       "       [ -2.14679074e-02,  -7.98922852e-02,  -5.10355458e-02,\n",
       "         -6.65649921e-02,  -8.90375972e-02,  -2.54402421e-02],\n",
       "       [ -8.03759135e-03,  -2.42052339e-02,  -1.44854086e-02,\n",
       "         -1.93313602e-02,  -2.43442934e-02,  -6.85224356e-03],\n",
       "       [ -9.87309613e-04,   4.08893247e-05,  -1.52660592e-03,\n",
       "          1.20483070e-04,  -6.25499291e-04,   1.44608086e-03],\n",
       "       [  6.26973575e-04,   1.06640284e-04,   3.04894293e-05,\n",
       "         -1.61520950e-03,   4.31349792e-04,  -9.96187096e-04],\n",
       "       [ -9.90782399e-04,  -1.76869842e-04,  -9.52722985e-05,\n",
       "          8.98125989e-04,  -1.10979972e-03,  -2.35585947e-04],\n",
       "       [ -3.56383878e-03,  -6.79650251e-03,  -6.29667472e-03,\n",
       "         -6.98265294e-03,  -8.71833786e-03,  -3.20783956e-03],\n",
       "       [ -5.51452255e-03,  -2.19310131e-02,  -1.40962647e-02,\n",
       "         -1.94155723e-02,  -2.59749070e-02,  -5.09931287e-03],\n",
       "       [  7.20969285e-04,  -2.96928320e-05,  -5.24662784e-04,\n",
       "          1.29779789e-03,  -4.34676709e-04,  -1.70436339e-03],\n",
       "       [ -1.90342534e-02,  -8.07770342e-02,  -4.97684292e-02,\n",
       "         -6.68347329e-02,  -8.99877399e-02,  -2.72187702e-02],\n",
       "       [  5.73725498e-04,   4.25193837e-04,  -3.16707738e-05,\n",
       "          9.89358756e-04,  -1.69244828e-04,  -1.36326475e-03],\n",
       "       [ -6.94212643e-03,  -2.14464068e-02,  -1.36444652e-02,\n",
       "         -1.68345757e-02,  -2.46454105e-02,  -7.84358848e-03],\n",
       "       [  7.90265694e-05,  -1.92496134e-03,   2.01644329e-03,\n",
       "          1.18905259e-03,   4.02318692e-04,  -2.65837181e-03],\n",
       "       [ -1.97653324e-04,  -2.34866352e-03,  -9.68510634e-04,\n",
       "          9.83496197e-04,  -4.10437060e-05,  -1.54525437e-03],\n",
       "       [  5.75270562e-04,   1.40812201e-03,   1.66564147e-04,\n",
       "          1.12869471e-04,   1.07843173e-03,  -7.10519380e-04],\n",
       "       [ -1.97925698e-02,  -8.28996524e-02,  -5.15117534e-02,\n",
       "         -6.73957989e-02,  -8.97918120e-02,  -2.69847848e-02],\n",
       "       [ -2.11277958e-02,  -8.05924684e-02,  -5.05114421e-02,\n",
       "         -6.55687302e-02,  -8.99234414e-02,  -2.50161029e-02],\n",
       "       [ -3.02268448e-03,  -9.43882018e-03,  -5.14569320e-03,\n",
       "         -5.62217319e-03,  -9.35427472e-03,  -1.29766914e-03],\n",
       "       [ -2.45273439e-03,  -9.53643955e-03,  -3.84498015e-03,\n",
       "         -6.13967003e-03,  -7.52414437e-03,  -2.39259587e-03],\n",
       "       [ -1.42325636e-03,  -2.07298552e-03,   1.87066675e-03,\n",
       "         -1.27028281e-04,   5.94009645e-04,   6.93771173e-04],\n",
       "       [  6.79640856e-04,   1.62388652e-03,  -1.08542666e-03,\n",
       "          2.04644492e-03,   8.29717086e-04,   8.78579915e-04],\n",
       "       [  1.37108273e-03,  -3.82170343e-04,  -5.15872089e-04,\n",
       "         -1.32643734e-03,  -1.17307215e-03,   1.19280629e-03],\n",
       "       [ -4.47739847e-04,  -1.79874408e-03,   2.02653264e-05,\n",
       "         -1.20726053e-03,  -7.74824584e-04,   8.10425146e-04],\n",
       "       [ -6.92069484e-03,  -2.16524266e-02,  -1.53716728e-02,\n",
       "         -1.75583698e-02,  -2.58013215e-02,  -6.92580221e-03],\n",
       "       [  5.79040672e-04,  -1.20681478e-03,   2.54808785e-03,\n",
       "          2.20199843e-04,   7.70630664e-04,   1.09921333e-04],\n",
       "       [ -4.65386640e-03,  -1.86583102e-02,  -1.19393412e-02,\n",
       "         -1.61849838e-02,  -2.02384703e-02,  -6.27999566e-03],\n",
       "       [ -7.08547281e-03,  -2.19485238e-02,  -1.51530206e-02,\n",
       "         -1.82654094e-02,  -2.44172756e-02,  -8.58659204e-03],\n",
       "       [ -4.56363749e-04,  -1.51070517e-05,  -5.68559568e-04,\n",
       "         -1.10105779e-04,  -1.18509564e-03,  -1.60419533e-03],\n",
       "       [  8.63193767e-04,   1.15443312e-04,   2.06847384e-04,\n",
       "         -1.35468633e-03,   1.34994194e-03,   6.81655772e-04],\n",
       "       [  1.01806002e-03,   7.19247211e-04,  -7.31046195e-04,\n",
       "          1.94726593e-03,   5.22575632e-04,   8.10029742e-04],\n",
       "       [ -2.26830505e-03,  -8.24666396e-03,  -5.72068710e-03,\n",
       "         -6.79392694e-03,  -8.90946202e-03,  -1.94577838e-03],\n",
       "       [ -2.40766257e-03,  -6.73112506e-03,  -3.44852312e-03,\n",
       "         -8.53305776e-03,  -8.78160167e-03,  -1.68752146e-03],\n",
       "       [ -6.92556100e-03,  -2.05509719e-02,  -1.44119188e-02,\n",
       "         -1.79350730e-02,  -2.57715601e-02,  -5.63406898e-03],\n",
       "       [  7.96603621e-04,  -1.98041741e-03,   8.26431089e-04,\n",
       "         -1.28337706e-04,  -7.56669906e-04,   7.06382620e-04],\n",
       "       [ -2.07198765e-02,  -8.09405819e-02,  -5.16652130e-02,\n",
       "         -6.61543608e-02,  -9.01265070e-02,  -2.40495801e-02],\n",
       "       [ -2.61638372e-04,  -1.37040101e-03,   1.83362921e-04,\n",
       "         -7.53206376e-04,  -1.17144070e-03,   1.15212053e-03],\n",
       "       [ -6.80870900e-04,  -6.07977214e-04,   1.68535195e-03,\n",
       "         -7.64444412e-05,  -5.88478288e-04,  -1.30517338e-03],\n",
       "       [  6.31826930e-04,  -7.67941892e-05,   1.97413028e-04,\n",
       "          2.48747598e-03,  -3.28195165e-04,  -8.35047686e-04],\n",
       "       [ -2.07130797e-02,  -8.01417753e-02,  -4.97048423e-02,\n",
       "         -6.65801242e-02,  -8.95997360e-02,  -2.61119157e-02],\n",
       "       [ -3.37534281e-03,  -8.50774441e-03,  -6.57869177e-03,\n",
       "         -6.01764629e-03,  -8.96906760e-03,  -3.01041687e-03],\n",
       "       [  9.14313190e-04,   1.26144791e-03,   1.34896196e-03,\n",
       "         -4.97849600e-04,   1.28796243e-03,   1.31872762e-03],\n",
       "       [ -5.74062159e-03,  -2.28374936e-02,  -1.39842127e-02,\n",
       "         -1.70371998e-02,  -2.49418542e-02,  -6.30667852e-03],\n",
       "       [  6.29931819e-05,   3.34400596e-04,  -1.99253019e-03,\n",
       "          4.17974952e-04,   9.99189979e-06,  -1.42859551e-03],\n",
       "       [ -3.31909163e-04,  -2.15624939e-04,   1.19124299e-04,\n",
       "          1.23672665e-03,   3.71985894e-04,   7.60698022e-05],\n",
       "       [ -4.09545144e-03,  -1.51010267e-02,  -8.80175643e-03,\n",
       "         -1.33248465e-02,  -1.77541599e-02,  -4.55139671e-03],\n",
       "       [  2.81761575e-04,   1.92367646e-03,   6.62748716e-05,\n",
       "         -2.37723041e-04,  -1.48492877e-03,  -9.08638351e-04],\n",
       "       [  1.00000000e+00,   3.79999995e+00,   2.40000010e+00,\n",
       "          3.20000005e+00,   4.30000019e+00,   1.20000005e+00],\n",
       "       [ -1.25210951e-04,   1.10249524e-03,  -2.03906733e-04,\n",
       "          1.72795355e-03,   2.19447320e-04,  -7.60172145e-04],\n",
       "       [ -1.02668360e-03,  -1.54319697e-03,  -1.42019824e-03,\n",
       "         -1.21867028e-03,  -1.83451502e-03,  -1.59686990e-03],\n",
       "       [ -1.67486130e-03,   4.82272706e-04,   4.19472344e-05,\n",
       "          5.16024185e-04,  -6.50335205e-05,  -1.04314333e-03],\n",
       "       [ -2.32993229e-03,  -4.15935507e-03,  -2.70660408e-03,\n",
       "         -4.63108066e-04,  -1.41041947e-03,   1.07649830e-03],\n",
       "       [  6.56585791e-04,  -1.75174605e-03,  -2.24431138e-03,\n",
       "          8.80151856e-05,  -1.53237674e-03,   9.37647244e-04],\n",
       "       [ -2.09799800e-02,  -8.12951997e-02,  -5.02749607e-02,\n",
       "         -6.66797832e-02,  -9.06529352e-02,  -2.62923092e-02],\n",
       "       [  4.88374615e-04,   2.42899917e-03,  -1.71955477e-03,\n",
       "         -1.50113134e-03,   1.81838998e-03,   3.62699328e-04],\n",
       "       [  3.10444681e-04,  -1.06227177e-03,   1.57414179e-03,\n",
       "          6.32643525e-04,   7.07497820e-04,   1.00645397e-04],\n",
       "       [  1.06310399e-04,   8.08758079e-04,   2.19018766e-04,\n",
       "          7.94394655e-05,  -5.96466823e-04,  -1.91829138e-04],\n",
       "       [  6.30122668e-04,  -7.48818857e-04,   1.90676341e-03,\n",
       "          9.80022247e-04,   6.64685096e-04,   1.07541142e-04],\n",
       "       [ -2.14273036e-02,  -7.92356431e-02,  -5.14630079e-02,\n",
       "         -6.54282495e-02,  -8.76450241e-02,  -2.45736092e-02],\n",
       "       [ -5.71785448e-03,  -2.33640093e-02,  -1.50410412e-02,\n",
       "         -1.75866261e-02,  -2.59578954e-02,  -4.90175886e-03],\n",
       "       [ -2.83466862e-03,  -8.43646377e-03,  -4.03580582e-03,\n",
       "         -5.99441072e-03,  -9.19351727e-03,  -4.21826774e-03]], dtype=float32)"
      ]
     },
     "execution_count": 151,
     "metadata": {},
     "output_type": "execute_result"
    }
   ],
   "source": [
    "e[0].get_value()"
   ]
  }
 ],
 "metadata": {
  "kernelspec": {
   "display_name": "Python 2",
   "language": "python",
   "name": "python2"
  },
  "language_info": {
   "codemirror_mode": {
    "name": "ipython",
    "version": 2
   },
   "file_extension": ".py",
   "mimetype": "text/x-python",
   "name": "python",
   "nbconvert_exporter": "python",
   "pygments_lexer": "ipython2",
   "version": "2.7.11"
  }
 },
 "nbformat": 4,
 "nbformat_minor": 0
}
